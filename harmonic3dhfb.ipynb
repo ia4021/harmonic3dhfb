{
 "cells": [
  {
   "cell_type": "markdown",
   "metadata": {},
   "source": [
    "## Skeleton to implement 3D harmonic oscillator PES code in C"
   ]
  },
  {
   "cell_type": "markdown",
   "metadata": {},
   "source": [
    "# Step 0 a) Loading up needed modules."
   ]
  },
  {
   "cell_type": "code",
   "execution_count": 2,
   "metadata": {},
   "outputs": [
    {
     "name": "stdout",
     "output_type": "stream",
     "text": [
      "CPU times: user 476 ms, sys: 824 ms, total: 1.3 s\n",
      "Wall time: 914 ms\n"
     ]
    }
   ],
   "source": [
    "%%time\n",
    "import numpy as np\n",
    "import matplotlib as mpl\n",
    "import matplotlib.pyplot as plt\n",
    "import math\n",
    "from os import path\n",
    "from scipy import special\n",
    "import scipy\n",
    "mpl.rcParams['font.size'] = 12"
   ]
  },
  {
   "cell_type": "markdown",
   "metadata": {},
   "source": [
    "# Step 0 b) Classes."
   ]
  },
  {
   "cell_type": "code",
   "execution_count": 3,
   "metadata": {},
   "outputs": [
    {
     "name": "stdout",
     "output_type": "stream",
     "text": [
      "CPU times: user 21 µs, sys: 0 ns, total: 21 µs\n",
      "Wall time: 21.9 µs\n"
     ]
    }
   ],
   "source": [
    "%%time\n",
    "###########\n",
    "# Classes #\n",
    "###########\n",
    "\n",
    "# Potentials.\n",
    "class densities(object):\n",
    "    def __init__(self,ngausshermx,ngausshermy,ngausshermz):\n",
    "        self.rho = np.zeros([2,ngausshermx,ngausshermy,ngausshermz]) # First index is isospin.\n",
    "        self.tau = np.zeros([2,ngausshermx,ngausshermy,ngausshermz])\n",
    "        self.kappa = np.zeros([2,ngausshermx,ngausshermy,ngausshermz]) + 1j*0.0 # Complex number\n",
    "        self.divJ = np.zeros([2,ngausshermx,ngausshermy,ngausshermz])\n",
    "        \n",
    "# Potentials.\n",
    "class potentials(object):\n",
    "    def __init__(self,ngausshermx,ngausshermy,ngausshermz):\n",
    "        self.effmass = np.zeros([2,ngausshermx,ngausshermy,ngausshermz])\n",
    "        self.ure = np.zeros([2,ngausshermx,ngausshermy,ngausshermz])\n",
    "        self.wx = np.zeros([2,ngausshermx,ngausshermy,ngausshermz])\n",
    "        self.wy = np.zeros([2,ngausshermx,ngausshermy,ngausshermz])\n",
    "        self.wz = np.zeros([2,ngausshermx,ngausshermy,ngausshermz])\n",
    "        self.delta = np.zeros([2,ngausshermx,ngausshermy,ngausshermz]) + 0.0*1j  \n",
    "        \n",
    "# Coupling constants for energy density functional.\n",
    "class ccedf(object):\n",
    "    def __init__(self, iforce, isospin):\n",
    "        if iforce == 7: # SeaLL1 (Phys Rev C 97, 044313). \n",
    "            # Homogenous interaction term.\n",
    "            self.a0 = 0.0\n",
    "            self.b0 = -684.524043779\n",
    "            self.c0 = 827.26287841\n",
    "            self.a1 = 64.2474102072\n",
    "            self.b1 = 119.862146959\n",
    "            self.c1 = -256.492703921\n",
    "            self.a2 = -96.8354102072\n",
    "            self.b2 = 449.22189682\n",
    "            self.c2 = -461.650174489\n",
    "            # Gradient term.\n",
    "            self.etas = 81.3917529003\n",
    "            self.claprho0 = -0.5*self.etas\n",
    "            self.claprho1 = -0.5*self.etas\n",
    "            self.claprhop = self.claprho0 + isospin*self.claprho1\n",
    "            self.claprhon = self.claprho0 - isospin*self.claprho1\n",
    "            # Spin orbit.\n",
    "            self.w0 = 73.5210618422\n",
    "            self.cdivJ0 = -self.w0\n",
    "            self.cdivJ1 = 0.0\n",
    "            self.cdivJp = self.cdivJ0 + isospin*self.cdivJ1\n",
    "            self.cdivJn = self.cdivJ0 - isospin*self.cdivJ1\n",
    "            # Pairing coupling constants.\n",
    "            self.gg0p = -200.0\n",
    "            self.gg0n = -200.0"
   ]
  },
  {
   "cell_type": "markdown",
   "metadata": {},
   "source": [
    "# Step 0 c) Functions."
   ]
  },
  {
   "cell_type": "code",
   "execution_count": 4,
   "metadata": {},
   "outputs": [
    {
     "name": "stdout",
     "output_type": "stream",
     "text": [
      "CPU times: user 4 µs, sys: 18 µs, total: 22 µs\n",
      "Wall time: 10 µs\n"
     ]
    }
   ],
   "source": [
    "%%time\n",
    "##############################\n",
    "# Functions Related to Basis #\n",
    "##############################\n",
    "\n",
    "# Counts total number of allowed states given nshells. \n",
    "def obtainNumStates(nshells):\n",
    "    nstates = 0\n",
    "    for i in range(nshells):\n",
    "        for ix in range(i+1): # ix can go from 0 to N, which is represented by i. \n",
    "            for iy in range(i+1): # ix can go from 0 to N, which is represented by i. \n",
    "                for iz in range(i+1): # ix can go from 0 to N, which is represented by i. \n",
    "                    if iz+iy+ix != i:\n",
    "                        continue\n",
    "                    nstates +=2 # For spin!    \n",
    "    return nstates\n",
    "\n",
    "# Records the energies and quantum numbers of the allowed states.\n",
    "def obtainQuanNums(nstates,nshells,hbaromegax,hbaromegay,hbaromegaz):\n",
    "    eho = np.zeros(nstates)\n",
    "    qnums = np.zeros([5,nstates])\n",
    "    ifill = 0\n",
    "    for i in range(nshells):\n",
    "        for ix in range(i+1): # ix can go from 0 to N, which is represented by i. \n",
    "            for iy in range(i+1): # ix can go from 0 to N, which is represented by i. \n",
    "                for iz in range(i+1): # ix can go from 0 to N, which is represented by i. \n",
    "                    if iz+iy+ix != i:\n",
    "                        continue\n",
    "                    for ispin in range(2):\n",
    "                        eho[ifill] = hbaromegax*(ix+0.5)+hbaromegay*(iy+0.5)+hbaromegaz*(iz+0.5)\n",
    "                        qnums[0,ifill] = i\n",
    "                        qnums[1,ifill] = ix\n",
    "                        qnums[2,ifill] = iy\n",
    "                        qnums[3,ifill] = iz\n",
    "                        qnums[4,ifill] = ispin \n",
    "                        ifill +=1 # For spin!          \n",
    "    return eho, qnums\n",
    "\n",
    "# Normalization of Hermite polynomial.\n",
    "def normHermite(nx): \n",
    "    Nnx = np.sqrt(1/(np.sqrt(np.pi)*2.0**nx*math.factorial(int(nx))))\n",
    "    return Nnx\n",
    "\n",
    "# Normalization array of Hermite polynomial for a given number of shells.\n",
    "def normHermite1D(nshells):\n",
    "    normhermx = np.zeros(nshells)\n",
    "    for i in range(nshells):\n",
    "        normhermx[i]=normHermite(i)\n",
    "    return normhermx\n",
    "\n",
    "# Returns Gauss-Hermite quadrature points, weights, and spatial coordinates.  \n",
    "def quadCoordinates(ngauss,betax):\n",
    "    # Defining quadrature points and weights.\n",
    "    xix, xiwx = np.polynomial.hermite.hermgauss(ngauss)\n",
    "    xiwx = xiwx/np.exp(-xix**2.0) \n",
    "    # Corresponding values in coordinate space.\n",
    "    x = xix/betax\n",
    "    return xix, xiwx, x\n",
    "\n",
    "# Constructing basis functions along 1 dimension. \n",
    "def basisHermite(ngauss,nshells,normherm,xix):\n",
    "    # Initialization.\n",
    "    basisherm = np.zeros([ngauss,nshells]) \n",
    "    # Filling in basis functions.\n",
    "    for i in range(nshells):\n",
    "        function = special.hermite(int(i), monic=True)  \n",
    "        fact=2.0**i*np.exp(-xix**2.0/2.0) # Extra factor of 2.0^nx is required\n",
    "        basisherm[:,i]= function(xix)*normherm[i]*fact \n",
    "    return basisherm\n",
    "\n",
    "# Constructing basis derivatives along 1 dimension. \n",
    "def dbasisHermite(hbaromega,hbar2m,basisherm,ngauss,nshells,xix):\n",
    "    # Pre factor.  \n",
    "    factor = -0.5*np.sqrt(hbaromega/hbar2m)\n",
    "    # Initialization.\n",
    "    dbasisherm = np.zeros([ngauss,nshells]) \n",
    "    # Filling in basis functions.\n",
    "    for i in range(nshells):\n",
    "        if i == 0:\n",
    "            dbasisherm[:,i]= np.sqrt(i+1.0)*basisherm[:,i+1]\n",
    "        else:\n",
    "            dbasisherm[:,i]= np.sqrt(i+1.0)*basisherm[:,i+1]-np.sqrt(i)*basisherm[:,i-1]\n",
    "    dbasisherm = factor*dbasisherm\n",
    "    return dbasisherm\n",
    "\n",
    "# Constructs basis functions along 3 dimensions.  \n",
    "def basis3D(qnums,nstates,ngausshermx, ngausshermy, ngausshermz,basishermx,basishermy,basishermz):\n",
    "    # Precompute indices\n",
    "    nxvalues = qnums[1, :].astype(int)\n",
    "    nyvalues = qnums[2, :].astype(int)\n",
    "    nzvalues = qnums[3, :].astype(int)\n",
    "    # Initialize arrays.\n",
    "    basisproduct = np.zeros((nstates,ngausshermx,ngausshermy,ngausshermz))\n",
    "    basisfull = np.zeros((nstates, 2, ngausshermx, ngausshermy, ngausshermz))\n",
    "    # Basis states.\n",
    "    for i in range(nstates):\n",
    "        basisproduct[i] = (\n",
    "            np.outer(basishermx[:, nxvalues[i]], \n",
    "                     np.outer(basishermy[:, nyvalues[i]], \n",
    "                              basishermz[:, nzvalues[i]]\n",
    "                             ).reshape(-1)\n",
    "                    ).reshape(ngausshermx, ngausshermy, ngausshermz)\n",
    "        )\n",
    "    # Assign values based on spin index.\n",
    "    basisfull[0::2, 0] = basisproduct[0::2]\n",
    "    basisfull[1::2, 1] = basisproduct[1::2]\n",
    "    return basisfull \n",
    "\n",
    "##################################\n",
    "# Functions Related to Densities #\n",
    "##################################\n",
    "\n",
    "# Defines erf function in 1-D for initializing densities.\n",
    "def erf(x,lx): \n",
    "    erffunc = np.zeros(lx)\n",
    "    for i in range(lx):\n",
    "        erffunc[i] = 1.0-math.erf(x[i])\n",
    "    return erffunc\n",
    "\n",
    "# Computes 3d integral.\n",
    "def integrate3D(ngausshermx,ngausshermy,ngausshermz,x,y,z,integrand):\n",
    "    integrand1 = np.trapezoid(integrand, z, axis=2)\n",
    "    integrand2 = np.trapezoid(integrand1, y, axis=1)\n",
    "    sums = np.trapezoid(integrand2, x)\n",
    "    return sums\n",
    "    \n",
    "# Initializes densities to a Gaussian esq function normalized to yield approximately the correct number of neutrons and protons.  \n",
    "# Should be extended to non spherical starting densities.  \n",
    "def initDens(A,N,npoints,ngausshermx,ngausshermy,ngausshermz,x,y,z):\n",
    "    # Scan small range of radii while keeping everything else constant. # Much better optimizations exist. \n",
    "    r0 = 1.2*A**(1./3.)\n",
    "    r0trial = np.linspace(0.6*r0,r0,npoints)\n",
    "    # Keep track of sums. \n",
    "    sums = np.zeros(npoints)\n",
    "    # Computes densities for various radii. \n",
    "    rho = np.zeros([ngausshermx,ngausshermy,ngausshermz])\n",
    "    for i in range(npoints):\n",
    "        # 1D densities.\n",
    "        xstart=0.5*erf((np.abs(x)-r0trial[i])/1.8,ngausshermx)\n",
    "        ystart=0.5*erf((np.abs(y)-r0trial[i])/1.8,ngausshermy)\n",
    "        zstart=0.5*erf((np.abs(z)-r0trial[i])/1.8,ngausshermz)\n",
    "        # 3D density.\n",
    "        rho = 0.08 * np.outer(xstart, np.outer(ystart, zstart).reshape(-1)).reshape(ngausshermx, ngausshermy, ngausshermz) \n",
    "        sums[i] = integrate3D(ngausshermx,ngausshermy,ngausshermz,x,y,z,rho)\n",
    "    ir0 = np.argmin(np.abs(sums-N))\n",
    "    # Computes correct density.\n",
    "    # 1D densities.\n",
    "    xstart=0.5*erf((np.abs(x)-r0trial[ir0])/1.8,ngausshermx)\n",
    "    ystart=0.5*erf((np.abs(y)-r0trial[ir0])/1.8,ngausshermy)\n",
    "    zstart=0.5*erf((np.abs(z)-r0trial[ir0])/1.8,ngausshermz)\n",
    "    # 3D density.\n",
    "    rho = 0.08 * np.outer(xstart, np.outer(ystart, zstart).reshape(-1)).reshape(ngausshermx, ngausshermy, ngausshermz)\n",
    "    return rho\n",
    "\n",
    "###################################\n",
    "# Functions Related to Potentials #\n",
    "###################################\n",
    "\n",
    "# Constructs potentials from densities.\n",
    "def constPots(pots,dens,hbar2m,ccedfp,ccedfn,iharmonic,ngausshermx,ngausshermy,ngausshermz):\n",
    "    # Defining the effective mass (simple for SeaLL1).\n",
    "    pots.effmass[:,:,:,:] = hbar2m\n",
    "    # Defining the central potential.\n",
    "    esp = 10**(-14.0) # Prevents division by zero. \n",
    "    rho0 = dens.rho[0,:,:,:]+dens.rho[1,:,:,:]\n",
    "    rho1 = dens.rho[0,:,:,:]-dens.rho[1,:,:,:]\n",
    "    for iso in range(2):\n",
    "        if iso == 0: # Protons interaction term.\n",
    "            pots.ure[iso,:,:,:] = 5.0/3.0*ccedfp.a0*rho0**(2.0/3.0) + 2.0*ccedfp.b0*rho0 + 7.0/3.0*ccedfp.c0*rho0**(4.0/3.0) \\\n",
    "            - 1.0/3.0*ccedfp.a1*rho1**2.0/(rho0**(4.0/3.0)+esp) + 1.0/3.0*ccedfp.c1*rho1**2.0/(rho0**(2.0/3.0)+esp) \\\n",
    "            - 7.0/3.0*ccedfp.a2*rho1**4.0/(rho0**(10.0/3.0)+esp) + 2.0*ccedfp.b2*rho1**4.0/(rho0**(3.0)+esp) + 5.0/3.0*ccedfp.c2*rho1**4.0/(rho0**(8.0/3.0)+esp) \\\n",
    "            + 2.0*ccedfp.a1*rho1/(rho0**(1.0/3.0)+esp) + 2.0*ccedfp.b1*rho1 + 2.0*ccedfp.c1*rho1*rho0**(1.0/3.0) \\\n",
    "            + 4.0*ccedfp.a2*rho1**3.0/(rho0**(7.0/3.0)+esp) + 4.0*ccedfp.b2*rho1**3.0/(rho0**2.0+esp) + 4.0*ccedfp.c2*rho1**3.0/(rho0**(5.0/3.0)+esp) \n",
    "        else: # Neutrons interaction term.\n",
    "            pots.ure[iso,:,:,:] = 5.0/3.0*ccedfn.a0*rho0**(2.0/3.0) + 2.0*ccedfn.b0*rho0 + 7.0/3.0*ccedfn.c0*rho0**(4.0/3.0) \\\n",
    "            - 1.0/3.0*ccedfn.a1*rho1**2.0/(rho0**(4.0/3.0)+esp) + 1.0/3.0*ccedfn.c1*rho1**2.0/(rho0**(2.0/3.0)+esp) \\\n",
    "            - 7.0/3.0*ccedfn.a2*rho1**4.0/(rho0**(10.0/3.0)+esp) + 2.0*ccedfn.b2*rho1**4.0/(rho0**(3.0)+esp) + 5.0/3.0*ccedfn.c2*rho1**4.0/(rho0**(8.0/3.0)+esp) \\\n",
    "            - 2.0*ccedfn.a1*rho1/(rho0**(1.0/3.0)+esp) - 2.0*ccedfn.b1*rho1 - 2.0*ccedfn.c1*rho1*rho0**(1.0/3.0) \\\n",
    "            - 4.0*ccedfn.a2*rho1**3.0/(rho0**(7.0/3.0)+esp) - 4.0*ccedfn.b2*rho1**3.0/(rho0**2.0+esp) - 4.0*ccedfn.c2*rho1**3.0/(rho0**(5.0/3.0)+esp) \n",
    "    # Harmonic oscillator potential (for testing purposes).\n",
    "    if iharmonic == 1:\n",
    "        oscx = 0.25*(1/hbar2m)*hbaromegax**2.0\n",
    "        oscy = 0.25*(1/hbar2m)*hbaromegay**2.0\n",
    "        oscz = 0.25*(1/hbar2m)*hbaromegaz**2.0\n",
    "        for iso in range(2):\n",
    "            for ix in range(ngausshermx):\n",
    "                for iy in range(ngausshermy):\n",
    "                    for iz in range(ngausshermz):\n",
    "                        pots.ure[iso,ix,iy,iz] = oscx*x[ix]**2.0 + oscy*y[iy]**2.0 + oscz*z[iz]**2.0 \n",
    "\n",
    "# Renormalizing coupling constant (more complicated once we switch away from SeaLL1 and have a non trivial effective mass).  \n",
    "def renormPaircoupling(pots,mup,mun,ccedfp,ccedfn,ngausshermx,ngausshermy,ngausshermz):\n",
    "    pc = np.zeros([2,ngausshermx,ngausshermy,ngausshermz])\n",
    "    ureal = np.zeros([2,ngausshermx,ngausshermy,ngausshermz])\n",
    "    for iso in range(2):\n",
    "        if iso == 0:\n",
    "            ureal[iso,:,:,:] = pots.ure[iso,:,:,:] - mup\n",
    "        else:\n",
    "            ureal[iso,:,:,:] = pots.ure[iso,:,:,:] - mun\n",
    "        p0 = np.sqrt(np.abs(ureal)/pots.effmass)\n",
    "        for ix in range(ngausshermx):\n",
    "            for iy in range(ngausshermy):\n",
    "                for iz in range(ngausshermz):\n",
    "                    if ecut > ureal[iso,ix,iy,iz]:\n",
    "                        pc[iso,ix,iy,iz] = np.sqrt((ecut - ureal[iso,ix,iy,iz])/pots.effmass[iso,ix,iy,iz])\n",
    "                        if ureal[iso,ix,iy,iz] < 0.0:\n",
    "                            pc[iso,ix,iy,iz] = pc[iso,ix,iy,iz] - 0.5*p0[iso,ix,iy,iz]*np.log((pc[iso,ix,iy,iz]+p0[iso,ix,iy,iz])/(pc[iso,ix,iy,iz]-p0[iso,ix,iy,iz]))\n",
    "                        else:\n",
    "                            pc[iso,ix,iy,iz] = pc[iso,ix,iy,iz] + p0[iso,ix,iy,iz]*np.atan(p0[iso,ix,iy,iz]/pc[iso,ix,iy,iz])\n",
    "                    else:\n",
    "                        pc[iso,ix,iy,iz] = 0.0           \n",
    "    geffp = ccedfp.gg0p*(1.0-ccedfp.gg0p*pc[0,:,:,:]/(4*np.pi**2.0*pots.effmass[0,:,:,:]))\n",
    "    geffn = ccedfn.gg0n*(1.0-ccedfp.gg0p*pc[1,:,:,:]/(4*np.pi**2.0*pots.effmass[1,:,:,:]))\n",
    "    return geffp, geffn\n",
    "\n",
    "# Constructs pairing field from anomalous density.\n",
    "def constDelta(pots,dens,geffp,geffn,iconstpair):\n",
    "    # Initial pairing field.\n",
    "    pots.delta[0,:,:,:] = -geffp*dens.kappa[0,:,:,:] + 0.0*1j\n",
    "    pots.delta[1,:,:,:] = -geffn*dens.kappa[1,:,:,:] + 0.0*1j\n",
    "    if iconstpair == 1:\n",
    "        pots.delta[0,:,:,:] = -40.0\n",
    "        pots.delta[1,:,:,:] = -40.0\n",
    "\n",
    "##########################################\n",
    "# Functions Related to Coulomb Potential #\n",
    "##########################################\n",
    "\n",
    "# Computes laplaciean of number density.  \n",
    "def compLaplrho(rho,x,y,z):\n",
    "    d2rho_dx2 = np.gradient(np.gradient(rho,x,axis=0),x, axis=0)\n",
    "    d2rho_dy2 = np.gradient(np.gradient(rho,y,axis=1),y, axis=1)\n",
    "    d2rho_dz2 = np.gradient(np.gradient(rho,z,axis=2),z, axis=2)\n",
    "    laplrho = d2rho_dx2 + d2rho_dy2 + d2rho_dz2\n",
    "    return laplrho\n",
    "\n",
    "# Computes direct contribution of Coulomb potential. \n",
    "def compVcouldirect(e2,laplrho,ngausshermx,ngausshermy,ngausshermz,x,y,z):\n",
    "    # Initializing arrays.  \n",
    "    vcdir = np.zeros([ngausshermx,ngausshermy,ngausshermz])\n",
    "    # Mesh grid to speed up calculation.\n",
    "    Xp, Yp, Zp = np.meshgrid(x, y, z, indexing=\"ij\")\n",
    "    # Computing all points in vcdir.\n",
    "    for ix in range(ngausshermx):\n",
    "        for iy in range(ngausshermy):\n",
    "            for iz in range(ngausshermz):\n",
    "                # Computing integrand.  \n",
    "                rmrp = np.sqrt((x[ix] - Xp)**2 + (y[iy] - Yp)**2 + (z[iz] - Zp)**2)\n",
    "                integrand = rmrp * laplrho\n",
    "                vcdir[ix,iy,iz] = 0.5*e2*integrate3D(ngausshermx,ngausshermy,ngausshermz,x,y,z,integrand)\n",
    "    vcdir = 0.5*e2*vcdir\n",
    "    return vcdir\n",
    "\n",
    "# Computes exchange contribution of Coulomb potential.  \n",
    "def compVcoulexchange(e2,rhop):\n",
    "    vcex = -e2*(3.0*rhop/np.pi)**(1./3.)\n",
    "    return vcex\n",
    "\n",
    "##############################################\n",
    "# Functions Related to Spin Orbit Potential. #\n",
    "##############################################\n",
    "\n",
    "# Computes gradient of number density.  \n",
    "def compGradrho(rho,ngausshermx,ngausshermy,ngausshermz,x,y,z):\n",
    "    drhox = np.zeros([2,ngausshermx,ngausshermy,ngausshermz])\n",
    "    drhoy = np.zeros([2,ngausshermx,ngausshermy,ngausshermz])\n",
    "    drhoz = np.zeros([2,ngausshermx,ngausshermy,ngausshermz])\n",
    "    for iso in range(2):\n",
    "        drhox[iso,:,:,:] = np.gradient(rho[iso,:,:,:],x,axis=0)\n",
    "        drhoy[iso,:,:,:] = np.gradient(rho[iso,:,:,:],y,axis=1)\n",
    "        drhoz[iso,:,:,:] = np.gradient(rho[iso,:,:,:],z,axis=2)\n",
    "    return drhox, drhoy, drhoz\n",
    "\n",
    "# Computes spin orbit potential.\n",
    "def compWso(pots,ccedf,drhox,drhoy,drhoz,isospin):\n",
    "    if isospin == 1: \n",
    "        iso = 0\n",
    "    elif isospin == -1:\n",
    "        iso = 1\n",
    "    pots.wx[iso,:,:,:] = ccedf.cdivJp*drhox[0,:,:,:] + ccedf.cdivJn*drhox[1,:,:,:]  \n",
    "    pots.wy[iso,:,:,:] = ccedf.cdivJp*drhoy[0,:,:,:] + ccedf.cdivJn*drhoy[1,:,:,:]\n",
    "    pots.wz[iso,:,:,:] = ccedf.cdivJp*drhoz[0,:,:,:] + ccedf.cdivJn*drhoz[1,:,:,:]\n",
    "    # Note: does not have 0.5 factor because we do not symmetrize, but should be double checked in future.   \n",
    "\n",
    "#####################################\n",
    "# Functions Related to Hamiltonian. #\n",
    "#####################################\n",
    "    \n",
    "# Computes 3D integral using Gauss-Hermite quad.\n",
    "def integrate3DGH(xiwx,xiwy,xiwz,integrand):\n",
    "    integral1 = np.sum(integrand*xiwz,axis=-1)\n",
    "    integral2 = np.sum(integral1*xiwy,axis=-1)\n",
    "    sums = np.sum(integral2*xiwx)\n",
    "    return sums\n",
    "\n",
    "# Computes Hamiltonian. \n",
    "def compHam(ndim,iso,pots,mu,xiwx,xiwy,xiwz,basisfull,dxbasisfull,dybasisfull,dzbasisfull,qnums):\n",
    "    # Initialize matrix.\n",
    "    hamp = np.zeros([2 * ndim, 2 * ndim])+0.0*1j\n",
    "    # Filling matrix. \n",
    "    for i in range(ndim):\n",
    "        ispin = i % 2\n",
    "        if i % 100 == 0:\n",
    "            print(i)\n",
    "        for j in range(ndim):\n",
    "            jspin = j % 2\n",
    "            if i >= j:\n",
    "                # Central potential.\n",
    "                if ispin==jspin:\n",
    "                    integrand = pots.ure[iso, :, :, :] * basisfull[i, ispin, :, :, :] * basisfull[j, jspin, :, :, :]\n",
    "                    integral = integrate3DGH(xiwx,xiwy,xiwz,integrand)\n",
    "                    hamp[i,j] = integral\n",
    "                    # Chemical potential.\n",
    "                    if i==j:\n",
    "                        hamp[i,j] = hamp[i,j] - mu\n",
    "                # Pairing contribution.     \n",
    "                if ispin !=jspin: # Adding this makes it faster.\n",
    "                    # Uv\n",
    "                    if ispin == 0:\n",
    "                        integrand = pots.delta[iso,:,:,:]* basisfull[i, ispin, :, :, :]*basisfull[j, 1, :, :, :]\n",
    "                    else:\n",
    "                        integrand = -pots.delta[iso,:,:,:]* basisfull[i, ispin, :, :, :]*basisfull[j, 0, :, :, :]\n",
    "                    integral = integrate3DGH(xiwx,xiwy,xiwz,integrand)\n",
    "                    hamp[i,j+nstates] = hamp[i,j+nstates] +integral\n",
    "                    # Vu\n",
    "                    if ispin == 0:\n",
    "                        integrand = -np.conj(pots.delta[iso,:,:,:])* basisfull[i, ispin, :, :, :]*basisfull[j, 1, :, :, :]\n",
    "                    else:\n",
    "                        integrand = np.conj(pots.delta[iso,:,:,:])* basisfull[i, ispin, :, :, :]*basisfull[j, 0, :, :, :]\n",
    "                    integral = integrate3DGH(xiwx,xiwy,xiwz,integrand)\n",
    "                    hamp[i+nstates,j] = hamp[i+nstates,j] +integral\n",
    "                # Kinetic part.\n",
    "                if ispin==jspin:\n",
    "                    if qnums[2,i]==qnums[2,j] and qnums[3,i]==qnums[3,j]: # x component. \n",
    "                        if qnums[1,i] == qnums[1,j]:      \n",
    "                            hamp[i,j] = hamp[i,j] + 0.25*hbaromegax*(2*qnums[1,j]+1.0)\n",
    "                        if qnums[1,i] == qnums[1,j]-2.0:      \n",
    "                            hamp[i,j] = hamp[i,j] - 0.25*hbaromegax*np.sqrt(qnums[1,j])*np.sqrt(qnums[1,j]-1.0)\n",
    "                        if qnums[1,i] == qnums[1,j]+2.0:      \n",
    "                            hamp[i,j] = hamp[i,j] - 0.25*hbaromegax*np.sqrt(qnums[1,j]+1.0)*np.sqrt(qnums[1,j]+2.0)\n",
    "                    if qnums[1,i]==qnums[1,j] and qnums[3,i]==qnums[3,j]: # y component. \n",
    "                        if qnums[2,i] == qnums[2,j]:      \n",
    "                            hamp[i,j] = hamp[i,j] + 0.25*hbaromegay*(2*qnums[2,j]+1.0)\n",
    "                        if qnums[2,i] == qnums[2,j]-2.0:      \n",
    "                            hamp[i,j] = hamp[i,j] - 0.25*hbaromegay*np.sqrt(qnums[2,j])*np.sqrt(qnums[2,j]-1.0)\n",
    "                        if qnums[2,i] == qnums[2,j]+2.0:      \n",
    "                            hamp[i,j] = hamp[i,j] - 0.25*hbaromegay*np.sqrt(qnums[2,j]+1.0)*np.sqrt(qnums[2,j]+2.0)\n",
    "                    if qnums[1,i]==qnums[1,j] and qnums[2,i]==qnums[2,j]: # z component. \n",
    "                        if qnums[3,i] == qnums[3,j]:      \n",
    "                            hamp[i,j] = hamp[i,j] + 0.25*hbaromegaz*(2*qnums[3,j]+1.0)\n",
    "                        if qnums[3,i] == qnums[3,j]-2.0:      \n",
    "                            hamp[i,j] = hamp[i,j] - 0.25*hbaromegaz*np.sqrt(qnums[3,j])*np.sqrt(qnums[3,j]-1.0)\n",
    "                        if qnums[3,i] == qnums[3,j]+2.0:      \n",
    "                            hamp[i,j] = hamp[i,j] - 0.25*hbaromegaz*np.sqrt(qnums[3,j]+1.0)*np.sqrt(qnums[3,j]+2.0)\n",
    "                # Spin orbit contribution (terms coupling with sigmaz).\n",
    "                if ispin==jspin:\n",
    "                    # Sigma z.\n",
    "                    if ispin == 0:\n",
    "                        integrand = -1j*basisfull[i, ispin, :, :, :] * (pots.wx[iso, :, :, :] * dybasisfull[j, jspin, :, :, :]-\\\n",
    "                                                            pots.wy[iso, :, :, :] * dxbasisfull[j, jspin, :, :, :])\n",
    "                    else:\n",
    "                        integrand = 1j*basisfull[i, ispin, :, :, :] * (pots.wx[iso, :, :, :] * dybasisfull[j, jspin, :, :, :]-\\\n",
    "                                                                pots.wy[iso, :, :, :] * dxbasisfull[j, jspin, :, :, :])\n",
    "                    integral = integrate3DGH(xiwx,xiwy,xiwz,integrand)\n",
    "                    hamp[i,j] = hamp[i,j] + integral\n",
    "                # Spin orbit contribution (terms coupling with sigmay and sigmax).\n",
    "                if ispin !=jspin:\n",
    "                    # Sigma x.\n",
    "                    if ispin == 0:\n",
    "                        integrand = -1j*basisfull[i, ispin, :, :, :] * (pots.wy[iso, :, :, :] * dzbasisfull[j, 1, :, :, :]-\\\n",
    "                                                            pots.wz[iso, :, :, :] * dybasisfull[j, 1, :, :, :])\n",
    "                    else:\n",
    "                        integrand = -1j*basisfull[i, ispin, :, :, :] * (pots.wy[iso, :, :, :] * dzbasisfull[j, 0, :, :, :]-\\\n",
    "                                                            pots.wz[iso, :, :, :] * dybasisfull[j, 0, :, :, :])\n",
    "                    integral = integrate3DGH(xiwx,xiwy,xiwz,integrand)\n",
    "                    hamp[i,j] = hamp[i,j] + integral\n",
    "                    # Sigma y. \n",
    "                    if ispin == 0:\n",
    "                        integrand = -1.0*basisfull[i, ispin, :, :, :] * (pots.wz[iso, :, :, :] * dxbasisfull[j, 1, :, :, :]-\\\n",
    "                                                            pots.wx[iso, :, :, :] * dzbasisfull[j, 1, :, :, :])\n",
    "                    else:\n",
    "                        integrand = basisfull[i, ispin, :, :, :] * (pots.wz[iso, :, :, :] * dxbasisfull[j, 0, :, :, :]-\\\n",
    "                                                            pots.wx[iso, :, :, :] * dzbasisfull[j, 0, :, :, :])\n",
    "                    integral = integrate3DGH(xiwx,xiwy,xiwz,integrand)\n",
    "                    hamp[i,j] = hamp[i,j] + integral                    \n",
    "                # V component part.\n",
    "                hamp[i+ndim,j+ndim] = -np.conj(hamp[i,j])  \n",
    "    # Compute second part of triangle.   \n",
    "    hamp = hamp + np.conj(np.transpose(hamp))- np.diag(np.diagonal(hamp)) \n",
    "    return hamp"
   ]
  },
  {
   "cell_type": "markdown",
   "metadata": {},
   "source": [
    "# Step 1) Defining the basis."
   ]
  },
  {
   "cell_type": "code",
   "execution_count": 5,
   "metadata": {},
   "outputs": [
    {
     "name": "stdout",
     "output_type": "stream",
     "text": [
      "A = 20 N = 12 Z = 8\n",
      "[MeV] hbaromegax = 15.104529144425586 [MeV] hbaromegay = 15.104529144425586 [MeV] hbaromegaz = 15.104529144425586\n",
      "CPU times: user 426 µs, sys: 301 µs, total: 727 µs\n",
      "Wall time: 430 µs\n"
     ]
    }
   ],
   "source": [
    "%%time\n",
    "# Independent Parameters.\n",
    "Z = 8 # Proton number.\n",
    "N = 12 # Neutron number.\n",
    "nshells = 12 # Number of shells to consider.\n",
    "ngausshermx = 40 # Number of Gauss Hermite quadrature points in the x direction.\n",
    "ngausshermy = 40 # Number of Gauss Hermite quadrature points in the y direction.\n",
    "ngausshermz = 40 # Number of Gauss Hermite quadrature points in the z direction.\n",
    "ecut = 100.0 # Cutoff energy.\n",
    "\n",
    "# Debug parameters. \n",
    "iharmonic = 0 # Uses harmonic oscillator potential for testing purposes. (Should be set to 0 for typical run).  \n",
    "iconstpair = 0 # Uses a constant pairing field. (Should be set to 0 for typical run). \n",
    "isotest = 0 # Uses a vec(W) = vec(r) potential. (Should be set to 0 for typical run).  \n",
    "\n",
    "# Constants.\n",
    "massp = 938.272013 \n",
    "massn = 939.565346 \n",
    "hbarc = 197.3269631 \n",
    "hbar2m = pow( hbarc , 2.0 ) / ( massp + massn ) \n",
    "mass = (massp + massn)/2.0\n",
    "alphainv = 137.035999679\n",
    "e2 = hbarc/alphainv\n",
    "\n",
    "# Dependent Parameters.\n",
    "A = N + Z # Mass number.\n",
    "hbaromegax = 41.0/A**(1.0/3.0) # Oscillator frequency in x direction. Estimate from Ring and Schuck [MeV]. \n",
    "hbaromegay = 41.0/A**(1.0/3.0) # Oscillator frequency in y direction. Estimate from Ring and Schuck [MeV]. \n",
    "hbaromegaz = 41.0/A**(1.0/3.0) # Oscillator frequency in z direction. Estimate from Ring and Schuck [MeV]. \n",
    "bx = np.sqrt(2*hbar2m*(1/hbaromegax)) # Oscillator length in x direction.\n",
    "betax = 1/bx # Oscillator constant in x direction.\n",
    "by = np.sqrt(2*hbar2m*(1/hbaromegay)) # Oscillator length in y direction.\n",
    "betay = 1/by # Oscillator constant in z direction.\n",
    "bz = np.sqrt(2*hbar2m*(1/hbaromegaz)) # Oscillator length in z direction.\n",
    "betaz = 1/bz # Oscillator constant.\n",
    "print(\"A =\", A, \"N =\", N, \"Z =\", Z)\n",
    "print(\"[MeV] hbaromegax =\", hbaromegax, \"[MeV] hbaromegay =\", hbaromegay, \"[MeV] hbaromegaz =\", hbaromegaz)"
   ]
  },
  {
   "cell_type": "code",
   "execution_count": 6,
   "metadata": {},
   "outputs": [
    {
     "name": "stdout",
     "output_type": "stream",
     "text": [
      "728\n",
      "CPU times: user 3.3 ms, sys: 2.56 ms, total: 5.86 ms\n",
      "Wall time: 3.83 ms\n"
     ]
    }
   ],
   "source": [
    "%%time\n",
    "# Constructs the basis.\n",
    "nstates = obtainNumStates(nshells)\n",
    "eho, qnums = obtainQuanNums(nstates,nshells,hbaromegax,hbaromegay,hbaromegaz)\n",
    "print(nstates)"
   ]
  },
  {
   "cell_type": "markdown",
   "metadata": {},
   "source": [
    "# Step 2) Defining the corresponding basis states along each dimension, quadrature points, weights, and spatial coordinates."
   ]
  },
  {
   "cell_type": "code",
   "execution_count": 7,
   "metadata": {},
   "outputs": [
    {
     "name": "stdout",
     "output_type": "stream",
     "text": [
      "CPU times: user 12.8 ms, sys: 4.18 ms, total: 17 ms\n",
      "Wall time: 17.3 ms\n"
     ]
    }
   ],
   "source": [
    "%%time\n",
    "# Defining the normalizations for all basis functions.\n",
    "normhermx = normHermite1D(nshells+3) # We do +3 to include up to 2nd derivatives. \n",
    "normhermy = normHermite1D(nshells+3) \n",
    "normhermz = normHermite1D(nshells+3) \n",
    "\n",
    "# Defining quadrature points and weights, and corresponding values in coordinate space.\n",
    "xix, xiwx, x = quadCoordinates(ngausshermx,betax) \n",
    "xiy, xiwy, y = quadCoordinates(ngausshermy,betay) \n",
    "xiz, xiwz, z = quadCoordinates(ngausshermz,betaz) \n",
    "\n",
    "# Filling in basis functions. \n",
    "basishermx = basisHermite(ngausshermx,nshells+3,normhermx,xix)\n",
    "basishermy = basisHermite(ngausshermy,nshells+3,normhermy,xiy)\n",
    "basishermz = basisHermite(ngausshermz,nshells+3,normhermz,xiz)\n",
    "\n",
    "# Filling in 1st derivative basis.\n",
    "dbasishermx = dbasisHermite(hbaromegax,hbar2m,basishermx,ngausshermx,nshells,xix)\n",
    "dbasishermy = dbasisHermite(hbaromegay,hbar2m,basishermy,ngausshermy,nshells,xiy)\n",
    "dbasishermz = dbasisHermite(hbaromegaz,hbar2m,basishermz,ngausshermz,nshells,xiz)"
   ]
  },
  {
   "cell_type": "code",
   "execution_count": 8,
   "metadata": {},
   "outputs": [
    {
     "name": "stdout",
     "output_type": "stream",
     "text": [
      "CPU times: user 23.6 ms, sys: 6.35 ms, total: 29.9 ms\n",
      "Wall time: 29.4 ms\n"
     ]
    },
    {
     "data": {
      "image/png": "[encoded data removed]",
      "text/plain": [
       "<Figure size 640x480 with 1 Axes>"
      ]
     },
     "metadata": {},
     "output_type": "display_data"
    }
   ],
   "source": [
    "%%time\n",
    "#######################################\n",
    "# IGNORE or REMOVE, CONSISTENCY TESTS #\n",
    "#######################################\n",
    "# Plotting coordinates (shifted slightly).\n",
    "plt.plot(x,'r')\n",
    "plt.plot(y+1,'b')\n",
    "plt.plot(z+2,'g')\n",
    "\n",
    "# Testing normalization of Hermite basis functions.\n",
    "for i in range(nshells+3):\n",
    "    test = np.sum(basishermx[:,i]*basishermx[:,i]*xiwx)\n",
    "    if np.abs(test-1.0) > 1e-6:\n",
    "        print(i,np.sum(basishermx[:,i]*basishermx[:,i]*xiwx))\n",
    "    test = np.sum(basishermy[:,i]*basishermy[:,i]*xiwy)\n",
    "    if np.abs(test-1.0) > 1e-6:\n",
    "        print(i,np.sum(basishermy[:,i]*basishermy[:,i]*xiwy))\n",
    "    test = np.sum(basishermz[:,i]*basishermz[:,i]*xiwz)\n",
    "    if np.abs(test-1.0) > 1e-6:\n",
    "        print(i,np.sum(basishermz[:,i]*basishermz[:,i]*xiwz))"
   ]
  },
  {
   "cell_type": "markdown",
   "metadata": {},
   "source": [
    "# Step 3) Defining the 3D HO eigenfunctions."
   ]
  },
  {
   "cell_type": "code",
   "execution_count": 9,
   "metadata": {},
   "outputs": [
    {
     "name": "stdout",
     "output_type": "stream",
     "text": [
      "CPU times: user 191 ms, sys: 107 ms, total: 298 ms\n",
      "Wall time: 296 ms\n"
     ]
    }
   ],
   "source": [
    "%%time\n",
    "# Computes basis in 3D.\n",
    "basisfull = basis3D(qnums,nstates,ngausshermx, ngausshermy, ngausshermz,basishermx,basishermy,basishermz)\n",
    "dxbasisfull = basis3D(qnums,nstates,ngausshermx, ngausshermy, ngausshermz,dbasishermx,basishermy,basishermz)\n",
    "dybasisfull = basis3D(qnums,nstates,ngausshermx, ngausshermy, ngausshermz,basishermx,dbasishermy,basishermz)\n",
    "dzbasisfull = basis3D(qnums,nstates,ngausshermx, ngausshermy, ngausshermz,basishermx,basishermy,dbasishermz)"
   ]
  },
  {
   "cell_type": "code",
   "execution_count": 10,
   "metadata": {},
   "outputs": [
    {
     "name": "stdout",
     "output_type": "stream",
     "text": [
      "CPU times: user 115 ms, sys: 32 ms, total: 147 ms\n",
      "Wall time: 155 ms\n"
     ]
    }
   ],
   "source": [
    "%%time\n",
    "#######################################\n",
    "# IGNORE or REMOVE, CONSISTENCY TESTS #\n",
    "#######################################\n",
    "# Testing normalization of the full basis functions\n",
    "for i in range(nstates):\n",
    "    integrand1 = np.sum(basisfull[i, :, :, :, :]**2 * xiwz, axis=-1)  # Summing over the last axis\n",
    "    integrand2 = np.sum(integrand1 * xiwy, axis=-1)  # Summing over the `iy` axis\n",
    "    integrand3 = np.sum(integrand2 * xiwz, axis=-1)  # Summing over the `ix` axis\n",
    "    sums = np.sum(integrand3)  # Summing over spins\n",
    "    if np.abs(sums - 1.0) > 1e-6:\n",
    "        print(i, sums)"
   ]
  },
  {
   "cell_type": "markdown",
   "metadata": {},
   "source": [
    "# Step 4) Defining the initial densities. "
   ]
  },
  {
   "cell_type": "code",
   "execution_count": 11,
   "metadata": {},
   "outputs": [],
   "source": [
    "# Initializing the densities. \n",
    "dens = densities(ngausshermx,ngausshermy,ngausshermz)"
   ]
  },
  {
   "cell_type": "code",
   "execution_count": 12,
   "metadata": {},
   "outputs": [
    {
     "name": "stdout",
     "output_type": "stream",
     "text": [
      "Z (start) N (start):\n",
      "7.993532491884931 12.007059284258396\n",
      "CPU times: user 361 ms, sys: 17.2 ms, total: 378 ms\n",
      "Wall time: 373 ms\n"
     ]
    }
   ],
   "source": [
    "%%time\n",
    "# Constructing starting densities (currently spherical).\n",
    "dens.rho[0,:,:,:] = initDens(A,Z,1000,ngausshermx,ngausshermy,ngausshermz,x,y,z)\n",
    "dens.rho[1,:,:,:] = initDens(A,N,1000,ngausshermx,ngausshermy,ngausshermz,x,y,z)\n",
    "dens.kappa=0.08*dens.rho+0.0*1j # NEEDS SOMETHING\n",
    "print(\"Z (start) N (start):\")\n",
    "print(integrate3D(ngausshermx,ngausshermy,ngausshermz,x,y,z,dens.rho[0,:,:,:]),\\\n",
    "                  integrate3D(ngausshermx,ngausshermy,ngausshermz,x,y,z,dens.rho[1,:,:,:]))"
   ]
  },
  {
   "cell_type": "code",
   "execution_count": 13,
   "metadata": {},
   "outputs": [
    {
     "name": "stdout",
     "output_type": "stream",
     "text": [
      "CPU times: user 25.6 ms, sys: 1.84 ms, total: 27.4 ms\n",
      "Wall time: 26.3 ms\n"
     ]
    },
    {
     "data": {
      "text/plain": [
       "<matplotlib.colorbar.Colorbar at 0x169a9f7f0>"
      ]
     },
     "execution_count": 13,
     "metadata": {},
     "output_type": "execute_result"
    },
    {
     "data": {
      "image/png": "[encoded data removed]",
      "text/plain": [
       "<Figure size 640x480 with 2 Axes>"
      ]
     },
     "metadata": {},
     "output_type": "display_data"
    }
   ],
   "source": [
    "%%time\n",
    "#######################################\n",
    "# IGNORE or REMOVE, CONSISTENCY TESTS #\n",
    "#######################################\n",
    "# Density profile.\n",
    "plt.imshow(dens.rho[0,:,int(ngausshermy/2),:],extent=[x[0], x[-1], z[0], z[-1]], origin='lower', aspect='auto', cmap='viridis')\n",
    "plt.colorbar()"
   ]
  },
  {
   "cell_type": "markdown",
   "metadata": {},
   "source": [
    "# Step 5) Constructing the initial potentials."
   ]
  },
  {
   "cell_type": "code",
   "execution_count": 14,
   "metadata": {},
   "outputs": [
    {
     "name": "stdout",
     "output_type": "stream",
     "text": [
      "CPU times: user 34 µs, sys: 0 ns, total: 34 µs\n",
      "Wall time: 40.1 µs\n"
     ]
    }
   ],
   "source": [
    "%%time\n",
    "# Setting the coupling constants.\n",
    "ccedfp = ccedf(7,1) # Protons.\n",
    "ccedfn = ccedf(7,-1) # Neutrons."
   ]
  },
  {
   "cell_type": "code",
   "execution_count": 15,
   "metadata": {},
   "outputs": [
    {
     "name": "stdout",
     "output_type": "stream",
     "text": [
      "CPU times: user 13.6 s, sys: 431 ms, total: 14 s\n",
      "Wall time: 14 s\n"
     ]
    }
   ],
   "source": [
    "%%time\n",
    "# Initializing the potentials. \n",
    "pots = potentials(ngausshermx,ngausshermy,ngausshermz)\n",
    "\n",
    "# Initial chemical potentials.\n",
    "mup = -12.5\n",
    "mun = -12.5\n",
    "\n",
    "# Constructs potentials. \n",
    "# Central potential.\n",
    "constPots(pots,dens,hbar2m,ccedfp,ccedfn,iharmonic,ngausshermx,ngausshermy,ngausshermz)\n",
    "# Pairing contribution.\n",
    "geffp, geffn = renormPaircoupling(pots,mup,mun,ccedfp,ccedfn,ngausshermx,ngausshermy,ngausshermz)\n",
    "constDelta(pots,dens,geffp,geffn,iconstpair)\n",
    "# Coulomb potentials.\n",
    "laplrho = compLaplrho(dens.rho[0,:,:,:],x,y,z)\n",
    "vcdir = compVcouldirect(e2,laplrho,ngausshermx,ngausshermy,ngausshermz,x,y,z) # A bit slow.  \n",
    "vcex = compVcoulexchange(e2,dens.rho[0,:,:,:])\n",
    "pots.ure[0,:,:,:] = pots.ure[0,:,:,:] + vcex + vcdir\n",
    "# Spin orbit potentials. \n",
    "drhox,drhoy,drhoz = compGradrho(dens.rho,ngausshermx,ngausshermy,ngausshermz,x,y,z)\n",
    "compWso(pots,ccedfp,drhox,drhoy,drhoz,1)\n",
    "compWso(pots,ccedfp,drhox,drhoy,drhoz,-1)\n",
    "if isotest == 1:\n",
    "    Xp, Yp, Zp = np.meshgrid(x, y, z, indexing=\"ij\")\n",
    "    acoeff = 5.0\n",
    "    for iso in range(2):\n",
    "        pots.wx[iso,:,:,:] = acoeff*Xp\n",
    "        pots.wy[iso,:,:,:] = acoeff*Yp\n",
    "        pots.wz[iso,:,:,:] = acoeff*Zp"
   ]
  },
  {
   "cell_type": "code",
   "execution_count": 16,
   "metadata": {},
   "outputs": [
    {
     "data": {
      "image/png": "[encoded data removed]",
      "text/plain": [
       "<Figure size 640x480 with 2 Axes>"
      ]
     },
     "metadata": {},
     "output_type": "display_data"
    },
    {
     "data": {
      "image/png": "[encoded data removed]",
      "text/plain": [
       "<Figure size 640x480 with 2 Axes>"
      ]
     },
     "metadata": {},
     "output_type": "display_data"
    },
    {
     "name": "stdout",
     "output_type": "stream",
     "text": [
      "CPU times: user 108 ms, sys: 3.7 ms, total: 111 ms\n",
      "Wall time: 110 ms\n"
     ]
    }
   ],
   "source": [
    "%%time\n",
    "#######################################\n",
    "# IGNORE or REMOVE, CONSISTENCY TESTS #\n",
    "#######################################\n",
    "# Central potential.\n",
    "plt.imshow(pots.ure[0,:,int(ngausshermy/2),:],extent=[x[0], x[-1], z[0], z[-1]], origin='lower', aspect='auto', cmap='viridis')\n",
    "plt.colorbar()\n",
    "plt.show()\n",
    "\n",
    "# Magnitude of pairing field.\n",
    "plt.imshow(np.abs(pots.delta[0,:,int(ngausshermy/2),:]),extent=[x[0], x[-1], z[0], z[-1]], origin='lower', aspect='auto', cmap='viridis')\n",
    "plt.colorbar()\n",
    "plt.show()"
   ]
  },
  {
   "cell_type": "markdown",
   "metadata": {},
   "source": [
    "# Main Loop.\n",
    "# Step 6) Constructing the Hamiltonian."
   ]
  },
  {
   "cell_type": "code",
   "execution_count": 17,
   "metadata": {},
   "outputs": [
    {
     "name": "stdout",
     "output_type": "stream",
     "text": [
      "0\n",
      "100\n",
      "200\n",
      "300\n",
      "400\n",
      "500\n",
      "600\n",
      "700\n",
      "0\n",
      "100\n",
      "200\n",
      "300\n",
      "400\n",
      "500\n",
      "600\n",
      "700\n",
      "CPU times: user 4min 41s, sys: 16 s, total: 4min 57s\n",
      "Wall time: 4min 57s\n"
     ]
    }
   ],
   "source": [
    "%%time\n",
    "# Construct Hamiltonian.\n",
    "hamp = compHam(nstates,0,pots,mup,xiwx,xiwy,xiwz,basisfull,dxbasisfull,dybasisfull,dzbasisfull,qnums)\n",
    "hamn = compHam(nstates,1,pots,mun,xiwx,xiwy,xiwz,basisfull,dxbasisfull,dybasisfull,dzbasisfull,qnums)"
   ]
  },
  {
   "cell_type": "code",
   "execution_count": 22,
   "metadata": {},
   "outputs": [
    {
     "name": "stdout",
     "output_type": "stream",
     "text": [
      "6.642942673215751e-15\n",
      "6.642942673215751e-15\n",
      "CPU times: user 41.3 ms, sys: 16.9 ms, total: 58.3 ms\n",
      "Wall time: 53.1 ms\n"
     ]
    }
   ],
   "source": [
    "%%time\n",
    "#######################################\n",
    "# IGNORE or REMOVE, CONSISTENCY TESTS #\n",
    "#######################################\n",
    "# Check if matrix is Hermitian. (Forced to be due to construction).  \n",
    "print(np.sum(np.abs(hamp-np.conj(np.transpose(hamp)))))\n",
    "print(np.sum(np.abs(hamn-np.conj(np.transpose(hamn)))))"
   ]
  },
  {
   "cell_type": "markdown",
   "metadata": {},
   "source": [
    "# Step 7) Diagonalizing the Hamiltonian to obtain the eigenvectors and values."
   ]
  },
  {
   "cell_type": "code",
   "execution_count": 23,
   "metadata": {},
   "outputs": [
    {
     "name": "stdout",
     "output_type": "stream",
     "text": [
      "CPU times: user 12.2 s, sys: 1.24 s, total: 13.5 s\n",
      "Wall time: 4.3 s\n"
     ]
    }
   ],
   "source": [
    "%%time\n",
    "# Diagonalize Hamiltonian. \n",
    "qpesp,eigvp = np.linalg.eigh(hamp)\n",
    "qpesn,eigvn = np.linalg.eigh(hamn)\n",
    "# Obtain single particle energies.\n",
    "spesp, tmp = np.linalg.eigh(hamp[0:nstates,0:nstates])\n",
    "spesn, tmp = np.linalg.eigh(hamn[0:nstates,0:nstates])"
   ]
  },
  {
   "cell_type": "code",
   "execution_count": 24,
   "metadata": {},
   "outputs": [
    {
     "name": "stdout",
     "output_type": "stream",
     "text": [
      "N =  7.999709464887591 Z =  9.291451407020388\n",
      "mun =  -12.5 mup =  -12.5\n",
      "CPU times: user 22.3 ms, sys: 7.88 ms, total: 30.2 ms\n",
      "Wall time: 1.1 s\n"
     ]
    }
   ],
   "source": [
    "%%time\n",
    "# Recording quasi-particle energies, single particle energies, and occupation numbers.\n",
    "# Occupation numbers.\n",
    "occsp = np.zeros(nstates)\n",
    "occsn = np.zeros(nstates)\n",
    "for i in range(nstates):\n",
    "    occsp[i] = np.sum(np.abs(eigvp[nstates:2*nstates,i+nstates]**2.0))\n",
    "    occsn[i] = np.sum(np.abs(eigvn[nstates:2*nstates,i+nstates]**2.0))\n",
    "print(\"N = \", np.sum(occsn), \"Z = \", np.sum(occsp))\n",
    "print(\"mun = \", mun, \"mup = \", mup)\n",
    "# Saving qpes, spes, and occs.\n",
    "np.savetxt('qpen.txt', np.c_[spesn,qpesn[nstates:2*nstates],occsn])\n",
    "np.savetxt('qpep.txt', np.c_[spesp,qpesp[nstates:2*nstates],occsp])"
   ]
  },
  {
   "cell_type": "code",
   "execution_count": 25,
   "metadata": {},
   "outputs": [
    {
     "data": {
      "image/png": "[encoded data removed]",
      "text/plain": [
       "<Figure size 640x480 with 1 Axes>"
      ]
     },
     "metadata": {},
     "output_type": "display_data"
    },
    {
     "data": {
      "image/png": "[encoded data removed]",
      "text/plain": [
       "<Figure size 640x480 with 1 Axes>"
      ]
     },
     "metadata": {},
     "output_type": "display_data"
    },
    {
     "data": {
      "image/png": "[encoded data removed]",
      "text/plain": [
       "<Figure size 640x480 with 1 Axes>"
      ]
     },
     "metadata": {},
     "output_type": "display_data"
    },
    {
     "name": "stdout",
     "output_type": "stream",
     "text": [
      "CPU times: user 168 ms, sys: 7.24 ms, total: 175 ms\n",
      "Wall time: 173 ms\n"
     ]
    }
   ],
   "source": [
    "%%time\n",
    "#######################################\n",
    "# IGNORE or REMOVE, CONSISTENCY TESTS #\n",
    "#######################################\n",
    "# Examining spectrum.  \n",
    "plt.plot(qpesp[nstates:2*nstates],occsp,'or')\n",
    "plt.plot(qpesn[nstates:2*nstates],occsn,'.b')\n",
    "plt.show()\n",
    "# Examining spectrum in log scale.  \n",
    "plt.plot(qpesp[nstates:2*nstates],np.log10(occsp),'or')\n",
    "plt.plot(qpesn[nstates:2*nstates],np.log10(occsn),'.b')\n",
    "plt.show()\n",
    "# Examining spectrum in log scale vs index and sorted.\n",
    "plt.plot(np.flip(np.sort(np.log10(occsp))),'or')\n",
    "plt.plot(np.flip(np.sort(np.log10(occsn))),'.b')\n",
    "plt.show()"
   ]
  },
  {
   "cell_type": "markdown",
   "metadata": {},
   "source": [
    "# Step 8) Obtaining the densities (with cutoff on number of quasi-particle wavefunctions)."
   ]
  },
  {
   "cell_type": "code",
   "execution_count": 26,
   "metadata": {},
   "outputs": [],
   "source": [
    "#dens.rho"
   ]
  },
  {
   "cell_type": "code",
   "execution_count": 1,
   "metadata": {},
   "outputs": [
    {
     "ename": "NameError",
     "evalue": "name 'qpesp' is not defined",
     "output_type": "error",
     "traceback": [
      "\u001b[0;31m---------------------------------------------------------------------------\u001b[0m",
      "\u001b[0;31mNameError\u001b[0m                                 Traceback (most recent call last)",
      "Cell \u001b[0;32mIn[1], line 1\u001b[0m\n\u001b[0;32m----> 1\u001b[0m \u001b[43mqpesp\u001b[49m\n",
      "\u001b[0;31mNameError\u001b[0m: name 'qpesp' is not defined"
     ]
    }
   ],
   "source": [
    "qpesp"
   ]
  },
  {
   "cell_type": "code",
   "execution_count": 41,
   "metadata": {},
   "outputs": [
    {
     "name": "stdout",
     "output_type": "stream",
     "text": [
      "1\n",
      "101\n",
      "201\n",
      "301\n",
      "401\n",
      "501\n",
      "601\n",
      "701\n",
      "1\n",
      "101\n",
      "201\n",
      "301\n",
      "401\n",
      "501\n",
      "601\n",
      "701\n"
     ]
    }
   ],
   "source": [
    "#rhokl = np.dot(np.conj(eigvp[nstates:,nstates:].T),eigvp[nstates:,nstates:])\n",
    "rhokl = np.dot(eigvp[nstates:,nstates:],np.conj(eigvp[nstates:,nstates:].T))\n",
    "tmp = np.zeros([ngausshermx, ngausshermy, ngausshermz]) + 0.0*1j\n",
    "# Step 3: Loop over spins and vectorize the j loop\n",
    "for ispin in range(2):\n",
    "    for i in range(nstates):\n",
    "        if i%100==1:\n",
    "            print(i)\n",
    "        # Vectorize the j loop\n",
    "        contribution = np.sum(\n",
    "            rhokl[i, :, None, None, None] * \n",
    "            basisfull[:, ispin, :, :, :] * \n",
    "            basisfull[i, ispin, :, :, :],\n",
    "            axis=0  # Sum over the j dimension\n",
    "        )\n",
    "        tmp += contribution"
   ]
  },
  {
   "cell_type": "code",
   "execution_count": 46,
   "metadata": {},
   "outputs": [
    {
     "name": "stdout",
     "output_type": "stream",
     "text": [
      "9.29145140702039\n"
     ]
    }
   ],
   "source": [
    "test= integrate3DGH(xiwx,xiwy,xiwz,np.real(tmp))\n",
    "print(test)"
   ]
  },
  {
   "cell_type": "code",
   "execution_count": null,
   "metadata": {},
   "outputs": [],
   "source": []
  },
  {
   "cell_type": "code",
   "execution_count": 43,
   "metadata": {},
   "outputs": [
    {
     "data": {
      "text/plain": [
       "<matplotlib.colorbar.Colorbar at 0x169b9e8b0>"
      ]
     },
     "execution_count": 43,
     "metadata": {},
     "output_type": "execute_result"
    },
    {
     "data": {
      "image/png": "[encoded data removed]",
      "text/plain": [
       "<Figure size 640x480 with 2 Axes>"
      ]
     },
     "metadata": {},
     "output_type": "display_data"
    }
   ],
   "source": [
    "# Density profile.\n",
    "plt.imshow(np.real(tmp[:,int(ngausshermy/2),:]),extent=[x[0], x[-1], z[0], z[-1]], origin='lower', aspect='auto', cmap='viridis')\n",
    "plt.colorbar()"
   ]
  },
  {
   "cell_type": "code",
   "execution_count": null,
   "metadata": {},
   "outputs": [],
   "source": []
  },
  {
   "cell_type": "code",
   "execution_count": null,
   "metadata": {},
   "outputs": [],
   "source": []
  },
  {
   "cell_type": "code",
   "execution_count": null,
   "metadata": {},
   "outputs": [],
   "source": []
  },
  {
   "cell_type": "code",
   "execution_count": null,
   "metadata": {},
   "outputs": [],
   "source": []
  },
  {
   "cell_type": "code",
   "execution_count": null,
   "metadata": {},
   "outputs": [],
   "source": []
  },
  {
   "cell_type": "code",
   "execution_count": 105,
   "metadata": {},
   "outputs": [
    {
     "name": "stdout",
     "output_type": "stream",
     "text": [
      "0\n",
      "1\n",
      "2\n",
      "3\n",
      "4\n",
      "5\n",
      "6\n",
      "7\n",
      "8\n",
      "9\n",
      "10\n",
      "11\n",
      "12\n",
      "13\n",
      "14\n",
      "15\n",
      "16\n",
      "17\n",
      "18\n",
      "19\n",
      "20\n",
      "21\n",
      "22\n",
      "23\n",
      "24\n",
      "25\n",
      "26\n",
      "27\n",
      "28\n",
      "29\n",
      "30\n",
      "31\n",
      "32\n",
      "33\n",
      "34\n",
      "35\n",
      "36\n",
      "37\n",
      "38\n",
      "39\n",
      "40\n",
      "41\n",
      "42\n",
      "43\n",
      "44\n",
      "45\n",
      "46\n",
      "47\n",
      "48\n",
      "49\n",
      "50\n",
      "51\n",
      "52\n",
      "53\n",
      "54\n",
      "55\n",
      "56\n",
      "57\n",
      "58\n",
      "59\n",
      "60\n"
     ]
    },
    {
     "ename": "KeyboardInterrupt",
     "evalue": "",
     "output_type": "error",
     "traceback": [
      "\u001b[0;31m---------------------------------------------------------------------------\u001b[0m",
      "\u001b[0;31mKeyboardInterrupt\u001b[0m                         Traceback (most recent call last)",
      "Cell \u001b[0;32mIn[105], line 7\u001b[0m\n\u001b[1;32m      5\u001b[0m \u001b[38;5;28mprint\u001b[39m(i)\n\u001b[1;32m      6\u001b[0m \u001b[38;5;28;01mfor\u001b[39;00m j \u001b[38;5;129;01min\u001b[39;00m \u001b[38;5;28mrange\u001b[39m(nstates):\n\u001b[0;32m----> 7\u001b[0m     tmp \u001b[38;5;241m=\u001b[39m \u001b[43mtmp\u001b[49m\u001b[43m \u001b[49m\u001b[38;5;241;43m+\u001b[39;49m\u001b[43m \u001b[49m\u001b[43mrhokl\u001b[49m\u001b[43m[\u001b[49m\u001b[43mi\u001b[49m\u001b[43m,\u001b[49m\u001b[43mj\u001b[49m\u001b[43m]\u001b[49m\u001b[38;5;241;43m*\u001b[39;49m\u001b[43mbasisfull\u001b[49m\u001b[43m[\u001b[49m\u001b[43mi\u001b[49m\u001b[43m,\u001b[49m\u001b[43m \u001b[49m\u001b[43mispin\u001b[49m\u001b[43m,\u001b[49m\u001b[43m \u001b[49m\u001b[43m:\u001b[49m\u001b[43m,\u001b[49m\u001b[43m \u001b[49m\u001b[43m:\u001b[49m\u001b[43m,\u001b[49m\u001b[43m \u001b[49m\u001b[43m:\u001b[49m\u001b[43m]\u001b[49m\u001b[43m \u001b[49m\u001b[38;5;241;43m+\u001b[39;49m\u001b[43m \u001b[49m\u001b[43mbasisfull\u001b[49m\u001b[43m[\u001b[49m\u001b[43mj\u001b[49m\u001b[43m,\u001b[49m\u001b[43m \u001b[49m\u001b[43mispin\u001b[49m\u001b[43m,\u001b[49m\u001b[43m \u001b[49m\u001b[43m:\u001b[49m\u001b[43m,\u001b[49m\u001b[43m \u001b[49m\u001b[43m:\u001b[49m\u001b[43m,\u001b[49m\u001b[43m \u001b[49m\u001b[43m:\u001b[49m\u001b[43m]\u001b[49m \n",
      "\u001b[0;31mKeyboardInterrupt\u001b[0m: "
     ]
    }
   ],
   "source": [
    "rhokl = np.dot(np.conj(eigvp[nstates:,nstates:].T),eigvp[nstates:,nstates:])\n",
    "tmp = np.zeros([ngausshermx, ngausshermy, ngausshermz]) + 0.0*1j\n",
    "for ispin in range(2):\n",
    "    for i in range(nstates):\n",
    "        print(i)\n",
    "        for j in range(nstates):\n",
    "            tmp = tmp + rhokl[i,j]*basisfull[i, ispin, :, :, :]*basisfull[j, ispin, :, :, :] "
   ]
  },
  {
   "cell_type": "code",
   "execution_count": 97,
   "metadata": {},
   "outputs": [
    {
     "data": {
      "text/plain": [
       "<matplotlib.colorbar.Colorbar at 0x1773e43a0>"
      ]
     },
     "execution_count": 97,
     "metadata": {},
     "output_type": "execute_result"
    },
    {
     "data": {
      "image/png": "[encoded data removed]",
      "text/plain": [
       "<Figure size 640x480 with 2 Axes>"
      ]
     },
     "metadata": {},
     "output_type": "display_data"
    }
   ],
   "source": [
    "plt.imshow(np.imag(test))\n",
    "plt.xlim(0,50)\n",
    "plt.ylim(0,50)\n",
    "plt.colorbar()"
   ]
  },
  {
   "cell_type": "code",
   "execution_count": 33,
   "metadata": {},
   "outputs": [],
   "source": [
    "test = np.conj(eigvp[nstates:k+nstates,i+nstates])*\\\n",
    "            eigvp[nstates:k+nstates,i+nstates]"
   ]
  },
  {
   "cell_type": "code",
   "execution_count": 44,
   "metadata": {},
   "outputs": [
    {
     "data": {
      "text/plain": [
       "array([3.52896344e-17-9.31154276e-19j, 5.72900113e-19+2.66562278e-19j])"
      ]
     },
     "execution_count": 44,
     "metadata": {},
     "output_type": "execute_result"
    }
   ],
   "source": [
    "np.conj(eigvp[nstates:k+nstates+1,i+nstates])"
   ]
  },
  {
   "cell_type": "code",
   "execution_count": 50,
   "metadata": {},
   "outputs": [],
   "source": [
    "tmp = np.zeros([2, ngausshermx, ngausshermy, ngausshermz]) + 0.0*1j\n",
    "for ispin in range(2):\n",
    "    conj_eigvp = np.conj(eigvp[nstates:, nstates:])  # Shape: (nstates, nstates)\n",
    "    eigvp_square = conj_eigvp * eigvp[nstates:, nstates:]  # Shape: (nstates, nstates)\n",
    "    basis_product = basisfull[:, ispin, :, :, :] * basisfull[:, ispin, :, :, :]  # Shape: (nstates, ngausshermx, ngausshermy, ngausshermz)\n",
    "    tmp[ispin] = np.tensordot(eigvp_square.sum(axis=0), basis_product, axes=(0, 0))  # Contract over `nstates`"
   ]
  },
  {
   "cell_type": "code",
   "execution_count": 70,
   "metadata": {},
   "outputs": [],
   "source": [
    "tmp = np.zeros([2, ngausshermx, ngausshermy, ngausshermz]) + 0.0*1j\n",
    "for i in range(nstates):\n",
    "    for ispin in range(2):\n",
    "        tmp[0,:,:,:] = tmp[0,:,:,:] +occsp[i]*basisfull[i, ispin, :, :, :]*basisfull[i, ispin, :, :, :]"
   ]
  },
  {
   "cell_type": "code",
   "execution_count": 76,
   "metadata": {},
   "outputs": [
    {
     "ename": "TypeError",
     "evalue": "Image data of dtype complex128 cannot be converted to float",
     "output_type": "error",
     "traceback": [
      "\u001b[0;31m---------------------------------------------------------------------------\u001b[0m",
      "\u001b[0;31mTypeError\u001b[0m                                 Traceback (most recent call last)",
      "Cell \u001b[0;32mIn[76], line 2\u001b[0m\n\u001b[1;32m      1\u001b[0m \u001b[38;5;66;03m# Density profile.\u001b[39;00m\n\u001b[0;32m----> 2\u001b[0m \u001b[43mplt\u001b[49m\u001b[38;5;241;43m.\u001b[39;49m\u001b[43mimshow\u001b[49m\u001b[43m(\u001b[49m\u001b[43mtmp\u001b[49m\u001b[43m[\u001b[49m\u001b[38;5;241;43m0\u001b[39;49m\u001b[43m,\u001b[49m\u001b[43m:\u001b[49m\u001b[43m,\u001b[49m\u001b[38;5;28;43mint\u001b[39;49m\u001b[43m(\u001b[49m\u001b[43mngausshermy\u001b[49m\u001b[38;5;241;43m/\u001b[39;49m\u001b[38;5;241;43m2\u001b[39;49m\u001b[43m)\u001b[49m\u001b[43m,\u001b[49m\u001b[43m:\u001b[49m\u001b[43m]\u001b[49m\u001b[38;5;241;43m+\u001b[39;49m\u001b[43mtmp\u001b[49m\u001b[43m[\u001b[49m\u001b[38;5;241;43m1\u001b[39;49m\u001b[43m,\u001b[49m\u001b[43m:\u001b[49m\u001b[43m,\u001b[49m\u001b[38;5;28;43mint\u001b[39;49m\u001b[43m(\u001b[49m\u001b[43mngausshermy\u001b[49m\u001b[38;5;241;43m/\u001b[39;49m\u001b[38;5;241;43m2\u001b[39;49m\u001b[43m)\u001b[49m\u001b[43m,\u001b[49m\u001b[43m:\u001b[49m\u001b[43m]\u001b[49m\u001b[43m,\u001b[49m\u001b[43mextent\u001b[49m\u001b[38;5;241;43m=\u001b[39;49m\u001b[43m[\u001b[49m\u001b[43mx\u001b[49m\u001b[43m[\u001b[49m\u001b[38;5;241;43m0\u001b[39;49m\u001b[43m]\u001b[49m\u001b[43m,\u001b[49m\u001b[43m \u001b[49m\u001b[43mx\u001b[49m\u001b[43m[\u001b[49m\u001b[38;5;241;43m-\u001b[39;49m\u001b[38;5;241;43m1\u001b[39;49m\u001b[43m]\u001b[49m\u001b[43m,\u001b[49m\u001b[43m \u001b[49m\u001b[43mz\u001b[49m\u001b[43m[\u001b[49m\u001b[38;5;241;43m0\u001b[39;49m\u001b[43m]\u001b[49m\u001b[43m,\u001b[49m\u001b[43m \u001b[49m\u001b[43mz\u001b[49m\u001b[43m[\u001b[49m\u001b[38;5;241;43m-\u001b[39;49m\u001b[38;5;241;43m1\u001b[39;49m\u001b[43m]\u001b[49m\u001b[43m]\u001b[49m\u001b[43m,\u001b[49m\u001b[43m \u001b[49m\u001b[43morigin\u001b[49m\u001b[38;5;241;43m=\u001b[39;49m\u001b[38;5;124;43m'\u001b[39;49m\u001b[38;5;124;43mlower\u001b[39;49m\u001b[38;5;124;43m'\u001b[39;49m\u001b[43m,\u001b[49m\u001b[43m \u001b[49m\u001b[43maspect\u001b[49m\u001b[38;5;241;43m=\u001b[39;49m\u001b[38;5;124;43m'\u001b[39;49m\u001b[38;5;124;43mauto\u001b[39;49m\u001b[38;5;124;43m'\u001b[39;49m\u001b[43m,\u001b[49m\u001b[43m \u001b[49m\u001b[43mcmap\u001b[49m\u001b[38;5;241;43m=\u001b[39;49m\u001b[38;5;124;43m'\u001b[39;49m\u001b[38;5;124;43mviridis\u001b[39;49m\u001b[38;5;124;43m'\u001b[39;49m\u001b[43m)\u001b[49m\n\u001b[1;32m      3\u001b[0m plt\u001b[38;5;241m.\u001b[39mcolorbar()\n\u001b[1;32m      4\u001b[0m test2\u001b[38;5;241m=\u001b[39m integrate3DGH(xiwx,xiwy,xiwz,np\u001b[38;5;241m.\u001b[39mreal(tmp))\n",
      "File \u001b[0;32m~/Library/Python/3.9/lib/python/site-packages/matplotlib/pyplot.py:3562\u001b[0m, in \u001b[0;36mimshow\u001b[0;34m(X, cmap, norm, aspect, interpolation, alpha, vmin, vmax, origin, extent, interpolation_stage, filternorm, filterrad, resample, url, data, **kwargs)\u001b[0m\n\u001b[1;32m   3541\u001b[0m \u001b[38;5;129m@_copy_docstring_and_deprecators\u001b[39m(Axes\u001b[38;5;241m.\u001b[39mimshow)\n\u001b[1;32m   3542\u001b[0m \u001b[38;5;28;01mdef\u001b[39;00m \u001b[38;5;21mimshow\u001b[39m(\n\u001b[1;32m   3543\u001b[0m     X: ArrayLike \u001b[38;5;241m|\u001b[39m PIL\u001b[38;5;241m.\u001b[39mImage\u001b[38;5;241m.\u001b[39mImage,\n\u001b[0;32m   (...)\u001b[0m\n\u001b[1;32m   3560\u001b[0m     \u001b[38;5;241m*\u001b[39m\u001b[38;5;241m*\u001b[39mkwargs,\n\u001b[1;32m   3561\u001b[0m ) \u001b[38;5;241m-\u001b[39m\u001b[38;5;241m>\u001b[39m AxesImage:\n\u001b[0;32m-> 3562\u001b[0m     __ret \u001b[38;5;241m=\u001b[39m \u001b[43mgca\u001b[49m\u001b[43m(\u001b[49m\u001b[43m)\u001b[49m\u001b[38;5;241;43m.\u001b[39;49m\u001b[43mimshow\u001b[49m\u001b[43m(\u001b[49m\n\u001b[1;32m   3563\u001b[0m \u001b[43m        \u001b[49m\u001b[43mX\u001b[49m\u001b[43m,\u001b[49m\n\u001b[1;32m   3564\u001b[0m \u001b[43m        \u001b[49m\u001b[43mcmap\u001b[49m\u001b[38;5;241;43m=\u001b[39;49m\u001b[43mcmap\u001b[49m\u001b[43m,\u001b[49m\n\u001b[1;32m   3565\u001b[0m \u001b[43m        \u001b[49m\u001b[43mnorm\u001b[49m\u001b[38;5;241;43m=\u001b[39;49m\u001b[43mnorm\u001b[49m\u001b[43m,\u001b[49m\n\u001b[1;32m   3566\u001b[0m \u001b[43m        \u001b[49m\u001b[43maspect\u001b[49m\u001b[38;5;241;43m=\u001b[39;49m\u001b[43maspect\u001b[49m\u001b[43m,\u001b[49m\n\u001b[1;32m   3567\u001b[0m \u001b[43m        \u001b[49m\u001b[43minterpolation\u001b[49m\u001b[38;5;241;43m=\u001b[39;49m\u001b[43minterpolation\u001b[49m\u001b[43m,\u001b[49m\n\u001b[1;32m   3568\u001b[0m \u001b[43m        \u001b[49m\u001b[43malpha\u001b[49m\u001b[38;5;241;43m=\u001b[39;49m\u001b[43malpha\u001b[49m\u001b[43m,\u001b[49m\n\u001b[1;32m   3569\u001b[0m \u001b[43m        \u001b[49m\u001b[43mvmin\u001b[49m\u001b[38;5;241;43m=\u001b[39;49m\u001b[43mvmin\u001b[49m\u001b[43m,\u001b[49m\n\u001b[1;32m   3570\u001b[0m \u001b[43m        \u001b[49m\u001b[43mvmax\u001b[49m\u001b[38;5;241;43m=\u001b[39;49m\u001b[43mvmax\u001b[49m\u001b[43m,\u001b[49m\n\u001b[1;32m   3571\u001b[0m \u001b[43m        \u001b[49m\u001b[43morigin\u001b[49m\u001b[38;5;241;43m=\u001b[39;49m\u001b[43morigin\u001b[49m\u001b[43m,\u001b[49m\n\u001b[1;32m   3572\u001b[0m \u001b[43m        \u001b[49m\u001b[43mextent\u001b[49m\u001b[38;5;241;43m=\u001b[39;49m\u001b[43mextent\u001b[49m\u001b[43m,\u001b[49m\n\u001b[1;32m   3573\u001b[0m \u001b[43m        \u001b[49m\u001b[43minterpolation_stage\u001b[49m\u001b[38;5;241;43m=\u001b[39;49m\u001b[43minterpolation_stage\u001b[49m\u001b[43m,\u001b[49m\n\u001b[1;32m   3574\u001b[0m \u001b[43m        \u001b[49m\u001b[43mfilternorm\u001b[49m\u001b[38;5;241;43m=\u001b[39;49m\u001b[43mfilternorm\u001b[49m\u001b[43m,\u001b[49m\n\u001b[1;32m   3575\u001b[0m \u001b[43m        \u001b[49m\u001b[43mfilterrad\u001b[49m\u001b[38;5;241;43m=\u001b[39;49m\u001b[43mfilterrad\u001b[49m\u001b[43m,\u001b[49m\n\u001b[1;32m   3576\u001b[0m \u001b[43m        \u001b[49m\u001b[43mresample\u001b[49m\u001b[38;5;241;43m=\u001b[39;49m\u001b[43mresample\u001b[49m\u001b[43m,\u001b[49m\n\u001b[1;32m   3577\u001b[0m \u001b[43m        \u001b[49m\u001b[43murl\u001b[49m\u001b[38;5;241;43m=\u001b[39;49m\u001b[43murl\u001b[49m\u001b[43m,\u001b[49m\n\u001b[1;32m   3578\u001b[0m \u001b[43m        \u001b[49m\u001b[38;5;241;43m*\u001b[39;49m\u001b[38;5;241;43m*\u001b[39;49m\u001b[43m(\u001b[49m\u001b[43m{\u001b[49m\u001b[38;5;124;43m\"\u001b[39;49m\u001b[38;5;124;43mdata\u001b[39;49m\u001b[38;5;124;43m\"\u001b[39;49m\u001b[43m:\u001b[49m\u001b[43m \u001b[49m\u001b[43mdata\u001b[49m\u001b[43m}\u001b[49m\u001b[43m \u001b[49m\u001b[38;5;28;43;01mif\u001b[39;49;00m\u001b[43m \u001b[49m\u001b[43mdata\u001b[49m\u001b[43m \u001b[49m\u001b[38;5;129;43;01mis\u001b[39;49;00m\u001b[43m \u001b[49m\u001b[38;5;129;43;01mnot\u001b[39;49;00m\u001b[43m \u001b[49m\u001b[38;5;28;43;01mNone\u001b[39;49;00m\u001b[43m \u001b[49m\u001b[38;5;28;43;01melse\u001b[39;49;00m\u001b[43m \u001b[49m\u001b[43m{\u001b[49m\u001b[43m}\u001b[49m\u001b[43m)\u001b[49m\u001b[43m,\u001b[49m\n\u001b[1;32m   3579\u001b[0m \u001b[43m        \u001b[49m\u001b[38;5;241;43m*\u001b[39;49m\u001b[38;5;241;43m*\u001b[39;49m\u001b[43mkwargs\u001b[49m\u001b[43m,\u001b[49m\n\u001b[1;32m   3580\u001b[0m \u001b[43m    \u001b[49m\u001b[43m)\u001b[49m\n\u001b[1;32m   3581\u001b[0m     sci(__ret)\n\u001b[1;32m   3582\u001b[0m     \u001b[38;5;28;01mreturn\u001b[39;00m __ret\n",
      "File \u001b[0;32m~/Library/Python/3.9/lib/python/site-packages/matplotlib/__init__.py:1473\u001b[0m, in \u001b[0;36m_preprocess_data.<locals>.inner\u001b[0;34m(ax, data, *args, **kwargs)\u001b[0m\n\u001b[1;32m   1470\u001b[0m \u001b[38;5;129m@functools\u001b[39m\u001b[38;5;241m.\u001b[39mwraps(func)\n\u001b[1;32m   1471\u001b[0m \u001b[38;5;28;01mdef\u001b[39;00m \u001b[38;5;21minner\u001b[39m(ax, \u001b[38;5;241m*\u001b[39margs, data\u001b[38;5;241m=\u001b[39m\u001b[38;5;28;01mNone\u001b[39;00m, \u001b[38;5;241m*\u001b[39m\u001b[38;5;241m*\u001b[39mkwargs):\n\u001b[1;32m   1472\u001b[0m     \u001b[38;5;28;01mif\u001b[39;00m data \u001b[38;5;129;01mis\u001b[39;00m \u001b[38;5;28;01mNone\u001b[39;00m:\n\u001b[0;32m-> 1473\u001b[0m         \u001b[38;5;28;01mreturn\u001b[39;00m \u001b[43mfunc\u001b[49m\u001b[43m(\u001b[49m\n\u001b[1;32m   1474\u001b[0m \u001b[43m            \u001b[49m\u001b[43max\u001b[49m\u001b[43m,\u001b[49m\n\u001b[1;32m   1475\u001b[0m \u001b[43m            \u001b[49m\u001b[38;5;241;43m*\u001b[39;49m\u001b[38;5;28;43mmap\u001b[39;49m\u001b[43m(\u001b[49m\u001b[43msanitize_sequence\u001b[49m\u001b[43m,\u001b[49m\u001b[43m \u001b[49m\u001b[43margs\u001b[49m\u001b[43m)\u001b[49m\u001b[43m,\u001b[49m\n\u001b[1;32m   1476\u001b[0m \u001b[43m            \u001b[49m\u001b[38;5;241;43m*\u001b[39;49m\u001b[38;5;241;43m*\u001b[39;49m\u001b[43m{\u001b[49m\u001b[43mk\u001b[49m\u001b[43m:\u001b[49m\u001b[43m \u001b[49m\u001b[43msanitize_sequence\u001b[49m\u001b[43m(\u001b[49m\u001b[43mv\u001b[49m\u001b[43m)\u001b[49m\u001b[43m \u001b[49m\u001b[38;5;28;43;01mfor\u001b[39;49;00m\u001b[43m \u001b[49m\u001b[43mk\u001b[49m\u001b[43m,\u001b[49m\u001b[43m \u001b[49m\u001b[43mv\u001b[49m\u001b[43m \u001b[49m\u001b[38;5;129;43;01min\u001b[39;49;00m\u001b[43m \u001b[49m\u001b[43mkwargs\u001b[49m\u001b[38;5;241;43m.\u001b[39;49m\u001b[43mitems\u001b[49m\u001b[43m(\u001b[49m\u001b[43m)\u001b[49m\u001b[43m}\u001b[49m\u001b[43m)\u001b[49m\n\u001b[1;32m   1478\u001b[0m     bound \u001b[38;5;241m=\u001b[39m new_sig\u001b[38;5;241m.\u001b[39mbind(ax, \u001b[38;5;241m*\u001b[39margs, \u001b[38;5;241m*\u001b[39m\u001b[38;5;241m*\u001b[39mkwargs)\n\u001b[1;32m   1479\u001b[0m     auto_label \u001b[38;5;241m=\u001b[39m (bound\u001b[38;5;241m.\u001b[39marguments\u001b[38;5;241m.\u001b[39mget(label_namer)\n\u001b[1;32m   1480\u001b[0m                   \u001b[38;5;129;01mor\u001b[39;00m bound\u001b[38;5;241m.\u001b[39mkwargs\u001b[38;5;241m.\u001b[39mget(label_namer))\n",
      "File \u001b[0;32m~/Library/Python/3.9/lib/python/site-packages/matplotlib/axes/_axes.py:5895\u001b[0m, in \u001b[0;36mAxes.imshow\u001b[0;34m(self, X, cmap, norm, aspect, interpolation, alpha, vmin, vmax, origin, extent, interpolation_stage, filternorm, filterrad, resample, url, **kwargs)\u001b[0m\n\u001b[1;32m   5892\u001b[0m \u001b[38;5;28;01mif\u001b[39;00m aspect \u001b[38;5;129;01mis\u001b[39;00m \u001b[38;5;129;01mnot\u001b[39;00m \u001b[38;5;28;01mNone\u001b[39;00m:\n\u001b[1;32m   5893\u001b[0m     \u001b[38;5;28mself\u001b[39m\u001b[38;5;241m.\u001b[39mset_aspect(aspect)\n\u001b[0;32m-> 5895\u001b[0m \u001b[43mim\u001b[49m\u001b[38;5;241;43m.\u001b[39;49m\u001b[43mset_data\u001b[49m\u001b[43m(\u001b[49m\u001b[43mX\u001b[49m\u001b[43m)\u001b[49m\n\u001b[1;32m   5896\u001b[0m im\u001b[38;5;241m.\u001b[39mset_alpha(alpha)\n\u001b[1;32m   5897\u001b[0m \u001b[38;5;28;01mif\u001b[39;00m im\u001b[38;5;241m.\u001b[39mget_clip_path() \u001b[38;5;129;01mis\u001b[39;00m \u001b[38;5;28;01mNone\u001b[39;00m:\n\u001b[1;32m   5898\u001b[0m     \u001b[38;5;66;03m# image does not already have clipping set, clip to Axes patch\u001b[39;00m\n",
      "File \u001b[0;32m~/Library/Python/3.9/lib/python/site-packages/matplotlib/image.py:729\u001b[0m, in \u001b[0;36m_ImageBase.set_data\u001b[0;34m(self, A)\u001b[0m\n\u001b[1;32m    727\u001b[0m \u001b[38;5;28;01mif\u001b[39;00m \u001b[38;5;28misinstance\u001b[39m(A, PIL\u001b[38;5;241m.\u001b[39mImage\u001b[38;5;241m.\u001b[39mImage):\n\u001b[1;32m    728\u001b[0m     A \u001b[38;5;241m=\u001b[39m pil_to_array(A)  \u001b[38;5;66;03m# Needed e.g. to apply png palette.\u001b[39;00m\n\u001b[0;32m--> 729\u001b[0m \u001b[38;5;28mself\u001b[39m\u001b[38;5;241m.\u001b[39m_A \u001b[38;5;241m=\u001b[39m \u001b[38;5;28;43mself\u001b[39;49m\u001b[38;5;241;43m.\u001b[39;49m\u001b[43m_normalize_image_array\u001b[49m\u001b[43m(\u001b[49m\u001b[43mA\u001b[49m\u001b[43m)\u001b[49m\n\u001b[1;32m    730\u001b[0m \u001b[38;5;28mself\u001b[39m\u001b[38;5;241m.\u001b[39m_imcache \u001b[38;5;241m=\u001b[39m \u001b[38;5;28;01mNone\u001b[39;00m\n\u001b[1;32m    731\u001b[0m \u001b[38;5;28mself\u001b[39m\u001b[38;5;241m.\u001b[39mstale \u001b[38;5;241m=\u001b[39m \u001b[38;5;28;01mTrue\u001b[39;00m\n",
      "File \u001b[0;32m~/Library/Python/3.9/lib/python/site-packages/matplotlib/image.py:692\u001b[0m, in \u001b[0;36m_ImageBase._normalize_image_array\u001b[0;34m(A)\u001b[0m\n\u001b[1;32m    690\u001b[0m A \u001b[38;5;241m=\u001b[39m cbook\u001b[38;5;241m.\u001b[39msafe_masked_invalid(A, copy\u001b[38;5;241m=\u001b[39m\u001b[38;5;28;01mTrue\u001b[39;00m)\n\u001b[1;32m    691\u001b[0m \u001b[38;5;28;01mif\u001b[39;00m A\u001b[38;5;241m.\u001b[39mdtype \u001b[38;5;241m!=\u001b[39m np\u001b[38;5;241m.\u001b[39muint8 \u001b[38;5;129;01mand\u001b[39;00m \u001b[38;5;129;01mnot\u001b[39;00m np\u001b[38;5;241m.\u001b[39mcan_cast(A\u001b[38;5;241m.\u001b[39mdtype, \u001b[38;5;28mfloat\u001b[39m, \u001b[38;5;124m\"\u001b[39m\u001b[38;5;124msame_kind\u001b[39m\u001b[38;5;124m\"\u001b[39m):\n\u001b[0;32m--> 692\u001b[0m     \u001b[38;5;28;01mraise\u001b[39;00m \u001b[38;5;167;01mTypeError\u001b[39;00m(\u001b[38;5;124mf\u001b[39m\u001b[38;5;124m\"\u001b[39m\u001b[38;5;124mImage data of dtype \u001b[39m\u001b[38;5;132;01m{\u001b[39;00mA\u001b[38;5;241m.\u001b[39mdtype\u001b[38;5;132;01m}\u001b[39;00m\u001b[38;5;124m cannot be \u001b[39m\u001b[38;5;124m\"\u001b[39m\n\u001b[1;32m    693\u001b[0m                     \u001b[38;5;124mf\u001b[39m\u001b[38;5;124m\"\u001b[39m\u001b[38;5;124mconverted to float\u001b[39m\u001b[38;5;124m\"\u001b[39m)\n\u001b[1;32m    694\u001b[0m \u001b[38;5;28;01mif\u001b[39;00m A\u001b[38;5;241m.\u001b[39mndim \u001b[38;5;241m==\u001b[39m \u001b[38;5;241m3\u001b[39m \u001b[38;5;129;01mand\u001b[39;00m A\u001b[38;5;241m.\u001b[39mshape[\u001b[38;5;241m-\u001b[39m\u001b[38;5;241m1\u001b[39m] \u001b[38;5;241m==\u001b[39m \u001b[38;5;241m1\u001b[39m:\n\u001b[1;32m    695\u001b[0m     A \u001b[38;5;241m=\u001b[39m A\u001b[38;5;241m.\u001b[39msqueeze(\u001b[38;5;241m-\u001b[39m\u001b[38;5;241m1\u001b[39m)  \u001b[38;5;66;03m# If just (M, N, 1), assume scalar and apply colormap.\u001b[39;00m\n",
      "\u001b[0;31mTypeError\u001b[0m: Image data of dtype complex128 cannot be converted to float"
     ]
    },
    {
     "data": {
      "image/png": "[encoded data removed]",
      "text/plain": [
       "<Figure size 640x480 with 1 Axes>"
      ]
     },
     "metadata": {},
     "output_type": "display_data"
    }
   ],
   "source": [
    "# Density profile.\n",
    "plt.imshow(tmp[0,:,int(ngausshermy/2),:]+tmp[1,:,int(ngausshermy/2),:],extent=[x[0], x[-1], z[0], z[-1]], origin='lower', aspect='auto', cmap='viridis')\n",
    "plt.colorbar()\n",
    "\n",
    "#tmp[0,:,:,:]"
   ]
  },
  {
   "cell_type": "code",
   "execution_count": 80,
   "metadata": {},
   "outputs": [
    {
     "name": "stdout",
     "output_type": "stream",
     "text": [
      "9.291451407020391 7.999709464887594\n"
     ]
    }
   ],
   "source": [
    "tmp = np.zeros([2, ngausshermx, ngausshermy, ngausshermz]) \n",
    "tmp2 = np.zeros([2, ngausshermx, ngausshermy, ngausshermz])\n",
    "for i in range(nstates):\n",
    "    for ispin in range(2):\n",
    "        tmp[0,:,:,:] = tmp[0,:,:,:] +occsp[i]*basisfull[i, ispin, :, :, :]*basisfull[i, ispin, :, :, :]\n",
    "        tmp2[0,:,:,:] = tmp2[0,:,:,:] +occsn[i]*basisfull[i, ispin, :, :, :]*basisfull[i, ispin, :, :, :]\n",
    "test= integrate3DGH(xiwx,xiwy,xiwz,np.real(tmp))\n",
    "test2= integrate3DGH(xiwx,xiwy,xiwz,np.real(tmp2))\n",
    "print(test,test2)"
   ]
  },
  {
   "cell_type": "code",
   "execution_count": null,
   "metadata": {},
   "outputs": [],
   "source": [
    "# Step 9) Extracting observables and checking convergence (if success skip to Step 12 - our of loop)."
   ]
  },
  {
   "cell_type": "code",
   "execution_count": null,
   "metadata": {},
   "outputs": [],
   "source": [
    "# Step 10) Creating new potentials."
   ]
  },
  {
   "cell_type": "code",
   "execution_count": null,
   "metadata": {},
   "outputs": [],
   "source": [
    "# Step 11) Updating chemical potential and mixing potentials. "
   ]
  },
  {
   "cell_type": "code",
   "execution_count": null,
   "metadata": {},
   "outputs": [],
   "source": [
    "# Return back to Step 6."
   ]
  },
  {
   "cell_type": "code",
   "execution_count": 51,
   "metadata": {},
   "outputs": [],
   "source": [
    "# Step 12) Writing restart densities, potentials, or wavefunctions if desired.  "
   ]
  }
 ],
 "metadata": {
  "kernelspec": {
   "display_name": "Python 3 (ipykernel)",
   "language": "python",
   "name": "python3"
  },
  "language_info": {
   "codemirror_mode": {
    "name": "ipython",
    "version": 3
   },
   "file_extension": ".py",
   "mimetype": "text/x-python",
   "name": "python",
   "nbconvert_exporter": "python",
   "pygments_lexer": "ipython3",
   "version": "3.9.6"
  }
 },
 "nbformat": 4,
 "nbformat_minor": 4
}
