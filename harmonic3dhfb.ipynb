{
 "cells": [
  {
   "cell_type": "markdown",
   "metadata": {},
   "source": [
    "## Skeleton to implement 3D harmonic oscillator PES code in python.\n",
    "## NOTE: Please find commments with NOTE to see current limitations of code."
   ]
  },
  {
   "cell_type": "markdown",
   "metadata": {},
   "source": [
    "# Step 0 a) Loading up needed modules."
   ]
  },
  {
   "cell_type": "code",
   "execution_count": 3,
   "metadata": {},
   "outputs": [
    {
     "name": "stdout",
     "output_type": "stream",
     "text": [
      "CPU times: user 46 µs, sys: 1e+03 ns, total: 47 µs\n",
      "Wall time: 52 µs\n"
     ]
    }
   ],
   "source": [
    "%%time\n",
    "import numpy as np\n",
    "import matplotlib as mpl\n",
    "import matplotlib.pyplot as plt\n",
    "import math\n",
    "import scipy\n",
    "from scipy import special\n",
    "from os import path\n",
    "mpl.rcParams['font.size'] = 12"
   ]
  },
  {
   "cell_type": "markdown",
   "metadata": {},
   "source": [
    "# Step 0 b) Classes."
   ]
  },
  {
   "cell_type": "code",
   "execution_count": 5,
   "metadata": {},
   "outputs": [
    {
     "name": "stdout",
     "output_type": "stream",
     "text": [
      "CPU times: user 65 µs, sys: 1 µs, total: 66 µs\n",
      "Wall time: 71 µs\n"
     ]
    }
   ],
   "source": [
    "%%time\n",
    "###########\n",
    "# Classes #\n",
    "###########\n",
    "\n",
    "# Potentials.\n",
    "class densities(object):\n",
    "    def __init__(self,ngausshermx,ngausshermy,ngausshermz):\n",
    "        self.rho = np.zeros([2,ngausshermx,ngausshermy,ngausshermz]) # First index is isospin.\n",
    "        self.tau = np.zeros([2,ngausshermx,ngausshermy,ngausshermz])\n",
    "        self.kappa = np.zeros([2,ngausshermx,ngausshermy,ngausshermz]) + 1j*0.0 # Complex number\n",
    "        self.divJ = np.zeros([2,ngausshermx,ngausshermy,ngausshermz])\n",
    "        \n",
    "# Potentials.\n",
    "class potentials(object):\n",
    "    def __init__(self,ngausshermx,ngausshermy,ngausshermz):\n",
    "        self.effmass = np.zeros([2,ngausshermx,ngausshermy,ngausshermz])\n",
    "        self.ure = np.zeros([2,ngausshermx,ngausshermy,ngausshermz])\n",
    "        self.wx = np.zeros([2,ngausshermx,ngausshermy,ngausshermz])\n",
    "        self.wy = np.zeros([2,ngausshermx,ngausshermy,ngausshermz])\n",
    "        self.wz = np.zeros([2,ngausshermx,ngausshermy,ngausshermz])\n",
    "        self.delta = np.zeros([2,ngausshermx,ngausshermy,ngausshermz]) + 0.0*1j  \n",
    "        \n",
    "# Coupling constants for energy density functional.\n",
    "class ccedf(object):\n",
    "    def __init__(self, iforce, isospin):\n",
    "        if iforce == 7: # SeaLL1 (Phys Rev C 97, 044313). \n",
    "            # Homogenous interaction term.\n",
    "            self.a0 = 0.0\n",
    "            self.b0 = -684.524043779\n",
    "            self.c0 = 827.26287841\n",
    "            self.a1 = 64.2474102072\n",
    "            self.b1 = 119.862146959\n",
    "            self.c1 = -256.492703921\n",
    "            self.a2 = -96.8354102072\n",
    "            self.b2 = 449.22189682\n",
    "            self.c2 = -461.650174489\n",
    "            # Gradient term.\n",
    "            self.etas = 81.3917529003\n",
    "            self.claprho0 = -0.5*self.etas\n",
    "            self.claprho1 = -0.5*self.etas\n",
    "            self.claprhop = self.claprho0 + isospin*self.claprho1\n",
    "            self.claprhon = self.claprho0 - isospin*self.claprho1\n",
    "            # Spin orbit.\n",
    "            self.w0 = 73.5210618422\n",
    "            self.cdivJ0 = -self.w0\n",
    "            self.cdivJ1 = 0.0\n",
    "            self.cdivJp = self.cdivJ0 + isospin*self.cdivJ1\n",
    "            self.cdivJn = self.cdivJ0 - isospin*self.cdivJ1\n",
    "            # Pairing coupling constants.\n",
    "            self.gg0p = -200.0\n",
    "            self.gg0n = -200.0"
   ]
  },
  {
   "cell_type": "markdown",
   "metadata": {},
   "source": [
    "# Step 0 c) Functions."
   ]
  },
  {
   "cell_type": "code",
   "execution_count": 461,
   "metadata": {},
   "outputs": [
    {
     "name": "stdout",
     "output_type": "stream",
     "text": [
      "CPU times: user 61 µs, sys: 845 µs, total: 906 µs\n",
      "Wall time: 1.6 ms\n"
     ]
    }
   ],
   "source": [
    "%%time\n",
    "##############################\n",
    "# Functions Related to Basis #\n",
    "##############################\n",
    "\n",
    "# Counts total number of allowed states given nshells. \n",
    "def obtainNumStates(nshells):\n",
    "    nstates = 0\n",
    "    for i in range(nshells):\n",
    "        for ix in range(i+1): # ix can go from 0 to N, which is represented by i. \n",
    "            for iy in range(i+1): # ix can go from 0 to N, which is represented by i. \n",
    "                for iz in range(i+1): # ix can go from 0 to N, which is represented by i. \n",
    "                    if iz+iy+ix != i:\n",
    "                        continue\n",
    "                    nstates +=1     \n",
    "    return nstates\n",
    "\n",
    "# Records the energies and quantum numbers of the allowed states.\n",
    "def obtainQuanNums(nstates,nshells,hbaromegax,hbaromegay,hbaromegaz):\n",
    "    eho = np.zeros(nstates)\n",
    "    qnums = np.zeros([4,nstates])\n",
    "    ifill = 0\n",
    "    for i in range(nshells):\n",
    "        for ix in range(i+1): # ix can go from 0 to N, which is represented by i. \n",
    "            for iy in range(i+1): # ix can go from 0 to N, which is represented by i. \n",
    "                for iz in range(i+1): # ix can go from 0 to N, which is represented by i. \n",
    "                    if iz+iy+ix != i:\n",
    "                        continue\n",
    "                    eho[ifill] = hbaromegax*(ix+0.5)+hbaromegay*(iy+0.5)+hbaromegaz*(iz+0.5)\n",
    "                    qnums[0,ifill] = i\n",
    "                    qnums[1,ifill] = ix\n",
    "                    qnums[2,ifill] = iy\n",
    "                    qnums[3,ifill] = iz\n",
    "                    ifill +=1 # For spin!          \n",
    "    return eho, qnums\n",
    "\n",
    "# Normalization of Hermite polynomial.\n",
    "def normHermite(nx): \n",
    "    Nnx = np.sqrt(1/(np.sqrt(np.pi)*2.0**nx*math.factorial(int(nx))))\n",
    "    return Nnx\n",
    "\n",
    "# Normalization array of Hermite polynomial for a given number of shells.\n",
    "def normHermite1D(nshells):\n",
    "    normhermx = np.zeros(nshells)\n",
    "    for i in range(nshells):\n",
    "        normhermx[i]=normHermite(i)\n",
    "    return normhermx\n",
    "\n",
    "# Returns Gauss-Hermite quadrature points, weights, and spatial coordinates.  \n",
    "def quadCoordinates(ngauss,betax):\n",
    "    # Defining quadrature points and weights.\n",
    "    xix, xiwx = np.polynomial.hermite.hermgauss(ngauss)\n",
    "    xiwx = xiwx/np.exp(-xix**2.0) \n",
    "    # Corresponding values in coordinate space.\n",
    "    x = xix/betax\n",
    "    return xix, xiwx, x\n",
    "\n",
    "# Constructing basis functions along 1 dimension. \n",
    "def basisHermite(ngauss,nshells,normherm,xix):\n",
    "    # Initialization.\n",
    "    basisherm = np.zeros([ngauss,nshells]) \n",
    "    # Filling in basis functions.\n",
    "    for i in range(nshells):\n",
    "        function = special.hermite(int(i), monic=True)  \n",
    "        fact=2.0**i*np.exp(-xix**2.0/2.0) # Extra factor of 2.0^nx is required\n",
    "        basisherm[:,i]= function(xix)*normherm[i]*fact \n",
    "    return basisherm\n",
    "\n",
    "# Constructing basis derivatives along 1 dimension. \n",
    "def dbasisHermite(hbaromega,hbar2m,basisherm,ngauss,nshells,xix):\n",
    "    # Pre factor.  \n",
    "    factor = -0.5*np.sqrt(hbaromega/hbar2m)\n",
    "    # Initialization.\n",
    "    dbasisherm = np.zeros([ngauss,nshells]) \n",
    "    # Filling in basis functions.\n",
    "    for i in range(nshells):\n",
    "        if i == 0:\n",
    "            dbasisherm[:,i]= np.sqrt(i+1.0)*basisherm[:,i+1]\n",
    "        else:\n",
    "            dbasisherm[:,i]= np.sqrt(i+1.0)*basisherm[:,i+1]-np.sqrt(i)*basisherm[:,i-1]\n",
    "    dbasisherm = factor*dbasisherm\n",
    "    return dbasisherm\n",
    "\n",
    "# Constructs basis functions along 3 dimensions.  \n",
    "def basis3D(qnums,nstates,ngausshermx, ngausshermy, ngausshermz,basishermx,basishermy,basishermz):\n",
    "    # Precompute indices\n",
    "    nxvalues = qnums[1, :].astype(int)\n",
    "    nyvalues = qnums[2, :].astype(int)\n",
    "    nzvalues = qnums[3, :].astype(int)\n",
    "    # Initialize arrays.\n",
    "    basisfull = np.zeros((nstates,ngausshermx,ngausshermy,ngausshermz))\n",
    "    # Basis states.\n",
    "    for i in range(nstates):\n",
    "        basisfull[i] = (\n",
    "            np.outer(basishermx[:, nxvalues[i]], \n",
    "                     np.outer(basishermy[:, nyvalues[i]], \n",
    "                              basishermz[:, nzvalues[i]]\n",
    "                             ).reshape(-1)\n",
    "                    ).reshape(ngausshermx, ngausshermy, ngausshermz)\n",
    "        )\n",
    "    return basisfull \n",
    "\n",
    "##################################\n",
    "# Functions Related to Densities #\n",
    "##################################\n",
    "\n",
    "# Defines erf function in 1-D for initializing densities.\n",
    "def erf(x,lx): \n",
    "    erffunc = np.zeros(lx)\n",
    "    for i in range(lx):\n",
    "        erffunc[i] = 1.0-math.erf(x[i])\n",
    "    return erffunc\n",
    "\n",
    "# Computes 3d integral.\n",
    "def integrate3D(ngausshermx,ngausshermy,ngausshermz,x,y,z,integrand):\n",
    "    integrand1 = np.trapz(integrand, z, axis=2)\n",
    "    integrand2 = np.trapz(integrand1, y, axis=1)\n",
    "    sums = np.trapz(integrand2, x)\n",
    "    return sums\n",
    "    \n",
    "# Initializes densities to a Gaussian esq function normalized to yield approximately the correct number of neutrons and protons.  \n",
    "# Should be extended to non spherical starting densities.  \n",
    "def initDens(A,N,npoints,ngausshermx,ngausshermy,ngausshermz,x,y,z,beta_y,beta_z):\n",
    "    x0 = 1.2*A**(1./3.)\n",
    "    params_init = [x0,.08] # initialization for norm and shift for the error function\n",
    "    def find_x0(params,ngausshermx,ngausshermy,ngausshermz,x,y,z,N,beta_y,beta_z):\n",
    "        rho_x = erf((np.abs(x) - params[0])/1.8,ngausshermx) # Note: 1.8 controls the diffuseness of the surface.\n",
    "        rho_y = erf((np.abs(y) - params[0]*beta_y)/1.8 ,ngausshermy)\n",
    "        rho_z = erf((np.abs(z) - params[0]*beta_z)/1.8,ngausshermz)\n",
    "        rho = params[1]*np.outer(rho_x, np.outer(rho_y, rho_z).reshape(-1)).reshape(ngausshermx, ngausshermy, ngausshermz)\n",
    "        integral = integrate3D(ngausshermx,ngausshermy,ngausshermz,x,y,z,rho)\n",
    "        N_eqn = integral - N #Constrain the integral of rho to be the number of particles N.\n",
    "        max_eqn = np.max(rho) - .16 #Constrain the max of the function to be saturation density .16 fm^-3\n",
    "        return [N_eqn,max_eqn]\n",
    "    root = scipy.optimize.fsolve(find_x0,params_init,args=(ngausshermx,ngausshermy,ngausshermz,x,y,z,N,beta_y,beta_z))\n",
    "    # Computes correct density.\n",
    "    # 1D densities.\n",
    "    rho_x = erf((np.abs(x)-root[0])/1.8,ngausshermx)\n",
    "    rho_y = erf((np.abs(y)-root[0]*beta_y)/1.8,ngausshermy)\n",
    "    rho_z = erf((np.abs(z)-root[0]*beta_z)/1.8,ngausshermz)\n",
    "    # 3D density.\n",
    "    rho = root[1]* np.outer(rho_x, np.outer(rho_y, rho_z).reshape(-1)).reshape(ngausshermx, ngausshermy, ngausshermz)\n",
    "    return rho\n",
    "\n",
    "###################################\n",
    "# Functions Related to Potentials #\n",
    "###################################\n",
    "\n",
    "# Constructs potentials from densities.\n",
    "def constPots(pots,dens,hbar2m,ccedfp,ccedfn,iharmonic,ngausshermx,ngausshermy,ngausshermz):\n",
    "    # Defining the effective mass (simple for SeaLL1).\n",
    "    pots.effmass[:,:,:,:] = hbar2m\n",
    "    # Defining sum and difference of densities. \n",
    "    esp = 10**(-14.0) # Prevents division by zero. \n",
    "    rho0 = dens.rho[0,:,:,:]+dens.rho[1,:,:,:]\n",
    "    rho1 = dens.rho[0,:,:,:]-dens.rho[1,:,:,:]\n",
    "    # Powers of densities.\n",
    "    rho0_p2d3 = rho0**(2.0/3.0)\n",
    "    rho0_p4d3 = rho0**(4.0/3.0)\n",
    "    rho0_p10d3 = rho0**(10.0/3.0)\n",
    "    rho0_p3 = rho0**(3.0)\n",
    "    rho0_p8d3 = rho0**(8.0/3.0)\n",
    "    rho0_p1d3 = rho0**(1.0/3.0)\n",
    "    rho0_p2 = rho0**(2.0)\n",
    "    rho0_p7d3 = rho0**(7.0/3.0)\n",
    "    rho0_p5d3 = rho0**(5.0/3.0)\n",
    "    rho1_p3 = rho1**(3.0)\n",
    "    # Defining the central potential.\n",
    "    for iso in range(2):\n",
    "        if iso == 0: # Protons interaction term.\n",
    "            sign = + 1\n",
    "            pots.ure[iso,:,:,:] = 5.0/3.0*ccedfp.a0*rho0_p2d3 \\\n",
    "            + 2.0*ccedfp.b0*rho0 \\\n",
    "            + 7.0/3.0*ccedfp.c0*rho0_p4d3 \\\n",
    "            - 1.0/3.0*ccedfp.a1*rho1**2.0/(rho0_p4d3+esp) \\\n",
    "            + 1.0/3.0*ccedfp.c1*rho1**2.0/(rho0_p2d3+esp) \\\n",
    "            - 7.0/3.0*ccedfp.a2*rho1**4.0/(rho0_p10d3+esp) \\\n",
    "            - 2.0*ccedfp.b2*rho1**4.0/(rho0_p3+esp) \\\n",
    "            - 5.0/3.0*ccedfp.c2*rho1**4.0/(rho0_p8d3+esp) \\\n",
    "            + sign*(2.0*ccedfp.a1*rho1/(rho0_p1d3+esp) \\\n",
    "            + 2.0*ccedfp.b1*rho1 \\\n",
    "            + 2.0*ccedfp.c1*rho1*rho0_p8d3 \\\n",
    "            + 4.0*ccedfp.a2*rho1_p3/(rho0_p7d3+esp) \\\n",
    "            + 4.0*ccedfp.b2*rho1_p3/(rho0_p2+esp) \\\n",
    "            + 4.0*ccedfp.c2*rho1_p3/(rho0_p5d3+esp)) \n",
    "        else: # Neutrons interaction term.\n",
    "            sign =  - 1\n",
    "            pots.ure[iso,:,:,:] = 5.0/3.0*ccedfn.a0*rho0_p2d3 \\\n",
    "            + 2.0*ccedfn.b0*rho0 \\\n",
    "            + 7.0/3.0*ccedfn.c0*rho0_p4d3 \\\n",
    "            - 1.0/3.0*ccedfn.a1*rho1**2.0/(rho0_p4d3+esp) \\\n",
    "            + 1.0/3.0*ccedfn.c1*rho1**2.0/(rho0_p2d3+esp) \\\n",
    "            - 7.0/3.0*ccedfn.a2*rho1**4.0/(rho0_p10d3+esp) \\\n",
    "            - 2.0*ccedfn.b2*rho1**4.0/(rho0_p3+esp) \\\n",
    "            - 5.0/3.0*ccedfn.c2*rho1**4.0/(rho0_p8d3+esp) \\\n",
    "            + sign*(2.0*ccedfn.a1*rho1/(rho0_p1d3+esp) \\\n",
    "            + 2.0*ccedfn.b1*rho1 \\\n",
    "            + 2.0*ccedfn.c1*rho1*rho0_p8d3 \\\n",
    "            + 4.0*ccedfn.a2*rho1_p3/(rho0_p7d3+esp) \\\n",
    "            + 4.0*ccedfn.b2*rho1_p3/(rho0_p2+esp) \\\n",
    "            + 4.0*ccedfn.c2*rho1_p3/(rho0_p5d3+esp)) \n",
    "    # Harmonic oscillator potential (for testing purposes).\n",
    "    if iharmonic == 1:\n",
    "        oscx = 0.25*(1/hbar2m)*hbaromegax**2.0\n",
    "        oscy = 0.25*(1/hbar2m)*hbaromegay**2.0\n",
    "        oscz = 0.25*(1/hbar2m)*hbaromegaz**2.0\n",
    "        for iso in range(2):\n",
    "            for ix in range(ngausshermx):\n",
    "                for iy in range(ngausshermy):\n",
    "                    for iz in range(ngausshermz):\n",
    "                        pots.ure[iso,ix,iy,iz] = oscx*x[ix]**2.0 + oscy*y[iy]**2.0 + oscz*z[iz]**2.0 \n",
    "    \n",
    "# Renormalizing coupling constant (more complicated once we switch away from SeaLL1 and have a non trivial effective mass).  \n",
    "def renormPaircoupling(pots,mup,mun,ccedfp,ccedfn,ngausshermx,ngausshermy,ngausshermz):\n",
    "    pc = np.zeros([2,ngausshermx,ngausshermy,ngausshermz])\n",
    "    ureal = np.zeros([2,ngausshermx,ngausshermy,ngausshermz])\n",
    "    for iso in range(2):\n",
    "        if iso == 0:\n",
    "            ureal[iso,:,:,:] = pots.ure[iso,:,:,:] - mup\n",
    "        else:\n",
    "            ureal[iso,:,:,:] = pots.ure[iso,:,:,:] - mun\n",
    "        p0 = np.sqrt(np.abs(ureal)/pots.effmass)\n",
    "        for ix in range(ngausshermx):\n",
    "            for iy in range(ngausshermy):\n",
    "                for iz in range(ngausshermz):\n",
    "                    if ecut > ureal[iso,ix,iy,iz]:\n",
    "                        pc[iso,ix,iy,iz] = np.sqrt((ecut - ureal[iso,ix,iy,iz])/pots.effmass[iso,ix,iy,iz])\n",
    "                        if ureal[iso,ix,iy,iz] < 0.0:\n",
    "                            pc[iso,ix,iy,iz] = pc[iso,ix,iy,iz] - 0.5*p0[iso,ix,iy,iz]*np.log((pc[iso,ix,iy,iz]+p0[iso,ix,iy,iz])/(pc[iso,ix,iy,iz]-p0[iso,ix,iy,iz]))\n",
    "                        else:\n",
    "                            pc[iso,ix,iy,iz] = pc[iso,ix,iy,iz] + p0[iso,ix,iy,iz]*np.arctan(p0[iso,ix,iy,iz]/pc[iso,ix,iy,iz])\n",
    "                    else:\n",
    "                        pc[iso,ix,iy,iz] = 0.0           \n",
    "    geffp = ccedfp.gg0p*(1.0-ccedfp.gg0p*pc[0,:,:,:]/(4*np.pi**2.0*pots.effmass[0,:,:,:]))\n",
    "    geffn = ccedfn.gg0n*(1.0-ccedfp.gg0p*pc[1,:,:,:]/(4*np.pi**2.0*pots.effmass[1,:,:,:]))\n",
    "    return geffp, geffn\n",
    "\n",
    "# Constructs pairing field from anomalous density.\n",
    "def constDelta(pots,dens,geffp,geffn,iconstpair):\n",
    "    # Initial pairing field.\n",
    "    pots.delta[0,:,:,:] = -geffp*dens.kappa[0,:,:,:] + 0.0*1j\n",
    "    pots.delta[1,:,:,:] = -geffn*dens.kappa[1,:,:,:] + 0.0*1j\n",
    "    if iconstpair == 1:\n",
    "        pots.delta[0,:,:,:] = -40.0\n",
    "        pots.delta[1,:,:,:] = -40.0\n",
    "\n",
    "##########################################\n",
    "# Functions Related to Coulomb Potential #\n",
    "##########################################\n",
    "\n",
    "# Computes laplaciean of number density.  \n",
    "def compLaplrho(rho,x,y,z):\n",
    "    d2rho_dx2 = np.gradient(np.gradient(rho,x,axis=0),x, axis=0)\n",
    "    d2rho_dy2 = np.gradient(np.gradient(rho,y,axis=1),y, axis=1)\n",
    "    d2rho_dz2 = np.gradient(np.gradient(rho,z,axis=2),z, axis=2)\n",
    "    laplrho = d2rho_dx2 + d2rho_dy2 + d2rho_dz2\n",
    "    return laplrho\n",
    "\n",
    "# Computes direct contribution of Coulomb potential. \n",
    "def compVcouldirect(e2,laplrho,ngausshermx,ngausshermy,ngausshermz,x,y,z):\n",
    "    # Initializing arrays.  \n",
    "    vcdir = np.zeros([ngausshermx,ngausshermy,ngausshermz])\n",
    "    # Mesh grid to speed up calculation.\n",
    "    Xp, Yp, Zp = np.meshgrid(x, y, z, indexing=\"ij\")\n",
    "    # Computing all points in vcdir.\n",
    "    for ix in range(ngausshermx):\n",
    "        for iy in range(ngausshermy):\n",
    "            for iz in range(ngausshermz):\n",
    "                # Computing integrand.  \n",
    "                rmrp = np.sqrt((x[ix] - Xp)**2 + (y[iy] - Yp)**2 + (z[iz] - Zp)**2)\n",
    "                integrand = rmrp * laplrho\n",
    "                vcdir[ix,iy,iz] = 0.5*e2*integrate3D(ngausshermx,ngausshermy,ngausshermz,x,y,z,integrand)\n",
    "    vcdir = 0.5*e2*vcdir\n",
    "    return vcdir\n",
    "\n",
    "# Computes exchange contribution of Coulomb potential.  \n",
    "def compVcoulexchange(e2,rhop):\n",
    "    vcex = -e2*(3.0*rhop/np.pi)**(1./3.)\n",
    "    return vcex\n",
    "\n",
    "##############################################\n",
    "# Functions Related to Spin Orbit Potential. #\n",
    "##############################################\n",
    "\n",
    "# Computes gradient of number density.  \n",
    "def compGradrho(rho,ngausshermx,ngausshermy,ngausshermz,x,y,z):\n",
    "    drhox = np.zeros([2,ngausshermx,ngausshermy,ngausshermz])\n",
    "    drhoy = np.zeros([2,ngausshermx,ngausshermy,ngausshermz])\n",
    "    drhoz = np.zeros([2,ngausshermx,ngausshermy,ngausshermz])\n",
    "    for iso in range(2):\n",
    "        drhox[iso,:,:,:] = np.gradient(rho[iso,:,:,:],x,axis=0)\n",
    "        drhoy[iso,:,:,:] = np.gradient(rho[iso,:,:,:],y,axis=1)\n",
    "        drhoz[iso,:,:,:] = np.gradient(rho[iso,:,:,:],z,axis=2)\n",
    "    return drhox, drhoy, drhoz\n",
    "\n",
    "# Computes spin orbit potential.\n",
    "def compWso(pots,ccedf,drhox,drhoy,drhoz,isospin):\n",
    "    if isospin == 1: \n",
    "        iso = 0\n",
    "    elif isospin == -1:\n",
    "        iso = 1\n",
    "    pots.wx[iso,:,:,:] = ccedf.cdivJp*drhox[0,:,:,:] + ccedf.cdivJn*drhox[1,:,:,:]  \n",
    "    pots.wy[iso,:,:,:] = ccedf.cdivJp*drhoy[0,:,:,:] + ccedf.cdivJn*drhoy[1,:,:,:]\n",
    "    pots.wz[iso,:,:,:] = ccedf.cdivJp*drhoz[0,:,:,:] + ccedf.cdivJn*drhoz[1,:,:,:]\n",
    "    # Note: does not have 0.5 factor because we do not symmetrize, but should be double checked in future.   \n",
    "\n",
    "#####################################\n",
    "# Functions Related to Hamiltonian. #\n",
    "#####################################\n",
    "    \n",
    "# Computes 3D integral using Gauss-Hermite quad.\n",
    "def integrate3DGH(xiwx,xiwy,xiwz,integrand):\n",
    "    integral1 = np.sum(integrand*xiwz,axis=-1)\n",
    "    integral2 = np.sum(integral1*xiwy,axis=-1)\n",
    "    sums = np.sum(integral2*xiwx)\n",
    "    return sums\n",
    "\n",
    "# Computes Hamiltonian. \n",
    "def compHam(ndim,iso,pots,mu,xiwx,xiwy,xiwz,basisfull,dxbasisfull,dybasisfull,dzbasisfull,qnums):\n",
    "    # Initialize matrix.\n",
    "    ndim2 = 2*ndim\n",
    "    ndim4 = 4*ndim\n",
    "    hamp = np.zeros([ndim4, ndim4])+0.0*1j # Spin and u,v components.\n",
    "    # Filling matrix (lower triangle). \n",
    "    for i in range(ndim4):\n",
    "        iuv = i // ndim2\n",
    "        ispin = (i // ndim) % 2\n",
    "        ixyz = i % ndim\n",
    "        for j in range(ndim4):\n",
    "            juv = j // ndim2 \n",
    "            jspin = (j // ndim) % 2\n",
    "            jxyz = j % ndim\n",
    "            if i >= j: # Lower triangle.\n",
    "                # Normal part.\n",
    "                if iuv == juv:\n",
    "                    if iuv == 0:\n",
    "                        dsign = +1 # U component.\n",
    "                    else:\n",
    "                        dsign = -1 # V component.\n",
    "                    # Diagonal spin contribution.  \n",
    "                    if ispin==jspin:\n",
    "                        # Central potential.\n",
    "                        integrand = pots.ure[iso, :, :, :] * basisfull[ixyz, :, :, :] * basisfull[jxyz, :, :, :]\n",
    "                        integral = integrate3DGH(xiwx,xiwy,xiwz,integrand)\n",
    "                        hamp[i,j] = hamp[i,j] + dsign*integral\n",
    "                        # Chemical potential.\n",
    "                        if i==j:\n",
    "                            hamp[i,j] = hamp[i,j] - dsign*mu\n",
    "                        # Kinetic part. NOTE: Currently only programmed for SeaLL1. \n",
    "                        # If we have an actual effective mass we need derivative basis functions and to perform an integral.  \n",
    "                        if qnums[2,ixyz]==qnums[2,jxyz] and qnums[3,ixyz]==qnums[3,jxyz]: # x component. \n",
    "                            if qnums[1,ixyz] == qnums[1,jxyz]:      \n",
    "                                hamp[i,j] = hamp[i,j] + dsign*0.25*hbaromegax*(2*qnums[1,jxyz]+1.0)\n",
    "                            if qnums[1,ixyz] == qnums[1,jxyz]-2.0:      \n",
    "                                hamp[i,j] = hamp[i,j] - dsign*0.25*hbaromegax*np.sqrt(qnums[1,jxyz])*np.sqrt(qnums[1,jxyz]-1.0)\n",
    "                            if qnums[1,ixyz] == qnums[1,jxyz]+2.0:      \n",
    "                                hamp[i,j] = hamp[i,j] - dsign*0.25*hbaromegax*np.sqrt(qnums[1,jxyz]+1.0)*np.sqrt(qnums[1,jxyz]+2.0)\n",
    "                        if qnums[1,ixyz]==qnums[1,jxyz] and qnums[3,ixyz]==qnums[3,jxyz]: # y component. \n",
    "                            if qnums[2,ixyz] == qnums[2,jxyz]:      \n",
    "                                hamp[i,j] = hamp[i,j] + dsign*0.25*hbaromegay*(2*qnums[2,jxyz]+1.0)\n",
    "                            if qnums[2,ixyz] == qnums[2,jxyz]-2.0:      \n",
    "                                hamp[i,j] = hamp[i,j] - dsign*0.25*hbaromegay*np.sqrt(qnums[2,jxyz])*np.sqrt(qnums[2,jxyz]-1.0)\n",
    "                            if qnums[2,ixyz] == qnums[2,jxyz]+2.0:      \n",
    "                                hamp[i,j] = hamp[i,j] - dsign*0.25*hbaromegay*np.sqrt(qnums[2,jxyz]+1.0)*np.sqrt(qnums[2,jxyz]+2.0)\n",
    "                        if qnums[1,ixyz]==qnums[1,jxyz] and qnums[2,ixyz]==qnums[2,jxyz]: # z component. \n",
    "                            if qnums[3,ixyz] == qnums[3,jxyz]:      \n",
    "                                hamp[i,j] = hamp[i,j] + dsign*0.25*hbaromegaz*(2*qnums[3,jxyz]+1.0)\n",
    "                            if qnums[3,ixyz] == qnums[3,jxyz]-2.0:      \n",
    "                                hamp[i,j] = hamp[i,j] - dsign*0.25*hbaromegaz*np.sqrt(qnums[3,jxyz])*np.sqrt(qnums[3,jxyz]-1.0)\n",
    "                            if qnums[3,ixyz] == qnums[3,jxyz]+2.0:      \n",
    "                                hamp[i,j] = hamp[i,j] - dsign*0.25*hbaromegaz*np.sqrt(qnums[3,jxyz]+1.0)*np.sqrt(qnums[3,jxyz]+2.0)\n",
    "                    # Off diagonal spin contribution.\n",
    "                # Pairing part. \n",
    "            # DONT FORGET TO CONJUGATE on imaginary off diagonal terms for V as well as the minus sign.\n",
    "    # Construct upper triangle.  \n",
    "    hamp = hamp + np.conj(np.transpose(hamp))- np.diag(np.diagonal(hamp)) \n",
    "    return hamp    \n",
    "    \n",
    "# # Computes Hamiltonian. \n",
    "# def compHam(ndim,iso,pots,mu,xiwx,xiwy,xiwz,basisfull,dxbasisfull,dybasisfull,dzbasisfull,qnums):\n",
    "#     # Initialize matrix.\n",
    "#     hamp = np.zeros([4 * ndim, 4 * ndim])+0.0*1j # Spin and u,v components.\n",
    "#     # Filling matrix. \n",
    "#     for i in range(ndim):\n",
    "#         ispin = i % 2\n",
    "#         for j in range(ndim):\n",
    "#             jspin = j % 2\n",
    "#             if i >= j:\n",
    "#                 # Central potential.\n",
    "#                 if ispin==jspin:\n",
    "#                     integrand = pots.ure[iso, :, :, :] * basisfull[i, ispin, :, :, :] * basisfull[j, jspin, :, :, :]\n",
    "#                     integral = integrate3DGH(xiwx,xiwy,xiwz,integrand)\n",
    "#                     hamp[i,j] = integral\n",
    "#                     # Chemical potential.\n",
    "#                     if i==j:\n",
    "#                         hamp[i,j] = hamp[i,j] - mu\n",
    "#                 # Pairing contribution.     \n",
    "#                 if ispin !=jspin: # Adding this makes it faster.\n",
    "#                     # Uv\n",
    "#                     if ispin == 0:\n",
    "#                         integrand = pots.delta[iso,:,:,:]* basisfull[i, ispin, :, :, :]*basisfull[j, 1, :, :, :]\n",
    "#                     else:\n",
    "#                         integrand = -pots.delta[iso,:,:,:]* basisfull[i, ispin, :, :, :]*basisfull[j, 0, :, :, :]\n",
    "#                     integral = integrate3DGH(xiwx,xiwy,xiwz,integrand)\n",
    "#                     hamp[i,j+nstates] = hamp[i,j+nstates] +integral\n",
    "#                     # Vu\n",
    "#                     if ispin == 0:\n",
    "#                         integrand = -np.conj(pots.delta[iso,:,:,:])* basisfull[i, ispin, :, :, :]*basisfull[j, 1, :, :, :]\n",
    "#                     else:\n",
    "#                         integrand = np.conj(pots.delta[iso,:,:,:])* basisfull[i, ispin, :, :, :]*basisfull[j, 0, :, :, :]\n",
    "#                     integral = integrate3DGH(xiwx,xiwy,xiwz,integrand)\n",
    "#                     hamp[i+nstates,j] = hamp[i+nstates,j] +integral\n",
    "#                 # Kinetic part.\n",
    "#                 if ispin==jspin:\n",
    "#                     if qnums[2,i]==qnums[2,j] and qnums[3,i]==qnums[3,j]: # x component. \n",
    "#                         if qnums[1,i] == qnums[1,j]:      \n",
    "#                             hamp[i,j] = hamp[i,j] + 0.25*hbaromegax*(2*qnums[1,j]+1.0)\n",
    "#                         if qnums[1,i] == qnums[1,j]-2.0:      \n",
    "#                             hamp[i,j] = hamp[i,j] - 0.25*hbaromegax*np.sqrt(qnums[1,j])*np.sqrt(qnums[1,j]-1.0)\n",
    "#                         if qnums[1,i] == qnums[1,j]+2.0:      \n",
    "#                             hamp[i,j] = hamp[i,j] - 0.25*hbaromegax*np.sqrt(qnums[1,j]+1.0)*np.sqrt(qnums[1,j]+2.0)\n",
    "#                     if qnums[1,i]==qnums[1,j] and qnums[3,i]==qnums[3,j]: # y component. \n",
    "#                         if qnums[2,i] == qnums[2,j]:      \n",
    "#                             hamp[i,j] = hamp[i,j] + 0.25*hbaromegay*(2*qnums[2,j]+1.0)\n",
    "#                         if qnums[2,i] == qnums[2,j]-2.0:      \n",
    "#                             hamp[i,j] = hamp[i,j] - 0.25*hbaromegay*np.sqrt(qnums[2,j])*np.sqrt(qnums[2,j]-1.0)\n",
    "#                         if qnums[2,i] == qnums[2,j]+2.0:      \n",
    "#                             hamp[i,j] = hamp[i,j] - 0.25*hbaromegay*np.sqrt(qnums[2,j]+1.0)*np.sqrt(qnums[2,j]+2.0)\n",
    "#                     if qnums[1,i]==qnums[1,j] and qnums[2,i]==qnums[2,j]: # z component. \n",
    "#                         if qnums[3,i] == qnums[3,j]:      \n",
    "#                             hamp[i,j] = hamp[i,j] + 0.25*hbaromegaz*(2*qnums[3,j]+1.0)\n",
    "#                         if qnums[3,i] == qnums[3,j]-2.0:      \n",
    "#                             hamp[i,j] = hamp[i,j] - 0.25*hbaromegaz*np.sqrt(qnums[3,j])*np.sqrt(qnums[3,j]-1.0)\n",
    "#                         if qnums[3,i] == qnums[3,j]+2.0:      \n",
    "#                             hamp[i,j] = hamp[i,j] - 0.25*hbaromegaz*np.sqrt(qnums[3,j]+1.0)*np.sqrt(qnums[3,j]+2.0)\n",
    "#                 # Spin orbit contribution (terms coupling with sigmaz).\n",
    "#                 if ispin==jspin:\n",
    "#                     # Sigma z.\n",
    "#                     if ispin == 0:\n",
    "#                         integrand = -1j*basisfull[i, ispin, :, :, :] * (pots.wx[iso, :, :, :] * dybasisfull[j, jspin, :, :, :]-\\\n",
    "#                                                             pots.wy[iso, :, :, :] * dxbasisfull[j, jspin, :, :, :])\n",
    "#                     else:\n",
    "#                         integrand = 1j*basisfull[i, ispin, :, :, :] * (pots.wx[iso, :, :, :] * dybasisfull[j, jspin, :, :, :]-\\\n",
    "#                                                                 pots.wy[iso, :, :, :] * dxbasisfull[j, jspin, :, :, :])\n",
    "#                     integral = integrate3DGH(xiwx,xiwy,xiwz,integrand)\n",
    "#                     hamp[i,j] = hamp[i,j] + integral\n",
    "#                 # Spin orbit contribution (terms coupling with sigmay and sigmax).\n",
    "#                 if ispin !=jspin:\n",
    "#                     # Sigma x.\n",
    "#                     if ispin == 0:\n",
    "#                         integrand = -1j*basisfull[i, ispin, :, :, :] * (pots.wy[iso, :, :, :] * dzbasisfull[j, 1, :, :, :]-\\\n",
    "#                                                             pots.wz[iso, :, :, :] * dybasisfull[j, 1, :, :, :])\n",
    "#                     else:\n",
    "#                         integrand = -1j*basisfull[i, ispin, :, :, :] * (pots.wy[iso, :, :, :] * dzbasisfull[j, 0, :, :, :]-\\\n",
    "#                                                             pots.wz[iso, :, :, :] * dybasisfull[j, 0, :, :, :])\n",
    "#                     integral = integrate3DGH(xiwx,xiwy,xiwz,integrand)\n",
    "#                     hamp[i,j] = hamp[i,j] + integral\n",
    "#                     # Sigma y. \n",
    "#                     if ispin == 0:\n",
    "#                         integrand = -1.0*basisfull[i, ispin, :, :, :] * (pots.wz[iso, :, :, :] * dxbasisfull[j, 1, :, :, :]-\\\n",
    "#                                                             pots.wx[iso, :, :, :] * dzbasisfull[j, 1, :, :, :])\n",
    "#                     else:\n",
    "#                         integrand = basisfull[i, ispin, :, :, :] * (pots.wz[iso, :, :, :] * dxbasisfull[j, 0, :, :, :]-\\\n",
    "#                                                             pots.wx[iso, :, :, :] * dzbasisfull[j, 0, :, :, :])\n",
    "#                     integral = integrate3DGH(xiwx,xiwy,xiwz,integrand)\n",
    "#                     hamp[i,j] = hamp[i,j] + integral                    \n",
    "#                 # V component part.\n",
    "#                 hamp[i+ndim,j+ndim] = -np.conj(hamp[i,j])  \n",
    "#     # Compute second part of triangle.   \n",
    "#     hamp = hamp + np.conj(np.transpose(hamp))- np.diag(np.diagonal(hamp)) \n",
    "#     return hamp"
   ]
  },
  {
   "cell_type": "markdown",
   "metadata": {},
   "source": [
    "# Step 1) Defining the basis."
   ]
  },
  {
   "cell_type": "code",
   "execution_count": 474,
   "metadata": {},
   "outputs": [
    {
     "name": "stdout",
     "output_type": "stream",
     "text": [
      "A = 20 N = 12 Z = 8\n",
      "[MeV] hbaromegax = 7.552264572212793 [MeV] hbaromegay = 7.552264572212793 [MeV] hbaromegaz = 7.552264572212793\n",
      "CPU times: user 460 µs, sys: 151 µs, total: 611 µs\n",
      "Wall time: 582 µs\n"
     ]
    }
   ],
   "source": [
    "%%time\n",
    "# Independent Parameters.\n",
    "Z = 8 # Proton number.\n",
    "N = 12 # Neutron number.\n",
    "nshells = 12 # Number of shells to consider.\n",
    "ngausshermx = 20 # Number of Gauss Hermite quadrature points in the x direction.\n",
    "ngausshermy = 20 # Number of Gauss Hermite quadrature points in the y direction.\n",
    "ngausshermz = 20 # Number of Gauss Hermite quadrature points in the z direction.\n",
    "ecut = 100.0 # Cutoff energy.\n",
    "betayg = 1.0\n",
    "betazg = 1.0\n",
    "\n",
    "# Debug parameters. \n",
    "iharmonic = 0 # Uses harmonic oscillator potential for testing purposes. (Should be set to 0 for typical run).  \n",
    "iconstpair = 0 # Uses a constant pairing field. (Should be set to 0 for typical run). \n",
    "isotest = 0 # Uses a vec(W) = vec(r) potential. (Should be set to 0 for typical run).  \n",
    "\n",
    "# Constants.\n",
    "massp = 938.272013 \n",
    "massn = 939.565346 \n",
    "hbarc = 197.3269631 \n",
    "hbar2m = pow( hbarc , 2.0 ) / ( massp + massn ) \n",
    "mass = (massp + massn)/2.0\n",
    "alphainv = 137.035999679\n",
    "e2 = hbarc/alphainv\n",
    "\n",
    "# Dependent Parameters.\n",
    "A = N + Z # Mass number.\n",
    "sfactor = 0.5 # Modifies oscillator frequency from pheonomological form. \n",
    "hbaromegax = sfactor*41.0/A**(1.0/3.0) # Oscillator frequency in x direction. Estimate from Ring and Schuck [MeV]. \n",
    "hbaromegay = sfactor*41.0/A**(1.0/3.0) # Oscillator frequency in y direction. Estimate from Ring and Schuck [MeV]. \n",
    "hbaromegaz = sfactor*41.0/A**(1.0/3.0) # Oscillator frequency in z direction. Estimate from Ring and Schuck [MeV]. \n",
    "bx = np.sqrt(2*hbar2m*(1/hbaromegax)) # Oscillator length in x direction.\n",
    "betax = 1/bx # Oscillator constant in x direction.\n",
    "by = np.sqrt(2*hbar2m*(1/hbaromegay)) # Oscillator length in y direction.\n",
    "betay = 1/by # Oscillator constant in z direction.\n",
    "bz = np.sqrt(2*hbar2m*(1/hbaromegaz)) # Oscillator length in z direction.\n",
    "betaz = 1/bz # Oscillator constant.\n",
    "print(\"A =\", A, \"N =\", N, \"Z =\", Z)\n",
    "print(\"[MeV] hbaromegax =\", hbaromegax, \"[MeV] hbaromegay =\", hbaromegay, \"[MeV] hbaromegaz =\", hbaromegaz)"
   ]
  },
  {
   "cell_type": "code",
   "execution_count": 463,
   "metadata": {},
   "outputs": [
    {
     "name": "stdout",
     "output_type": "stream",
     "text": [
      "364\n",
      "CPU times: user 1.8 ms, sys: 290 µs, total: 2.09 ms\n",
      "Wall time: 2.04 ms\n"
     ]
    }
   ],
   "source": [
    "%%time\n",
    "# Constructs the basis.\n",
    "nstates = obtainNumStates(nshells)\n",
    "eho, qnums = obtainQuanNums(nstates,nshells,hbaromegax,hbaromegay,hbaromegaz)\n",
    "print(nstates)"
   ]
  },
  {
   "cell_type": "markdown",
   "metadata": {},
   "source": [
    "# Step 2) Defining the corresponding basis states along each dimension, quadrature points, weights, and spatial coordinates."
   ]
  },
  {
   "cell_type": "code",
   "execution_count": 464,
   "metadata": {},
   "outputs": [
    {
     "name": "stdout",
     "output_type": "stream",
     "text": [
      "CPU times: user 10.2 ms, sys: 6.63 ms, total: 16.8 ms\n",
      "Wall time: 13.8 ms\n"
     ]
    }
   ],
   "source": [
    "%%time\n",
    "# Defining the normalizations for all basis functions.\n",
    "normhermx = normHermite1D(nshells+3) # We do +3 to include up to 2nd derivatives. \n",
    "normhermy = normHermite1D(nshells+3) \n",
    "normhermz = normHermite1D(nshells+3) \n",
    "\n",
    "# Defining quadrature points and weights, and corresponding values in coordinate space.\n",
    "xix, xiwx, x = quadCoordinates(ngausshermx,betax) \n",
    "xiy, xiwy, y = quadCoordinates(ngausshermy,betay) \n",
    "xiz, xiwz, z = quadCoordinates(ngausshermz,betaz) \n",
    "\n",
    "# Filling in basis functions. \n",
    "basishermx = basisHermite(ngausshermx,nshells+3,normhermx,xix)\n",
    "basishermy = basisHermite(ngausshermy,nshells+3,normhermy,xiy)\n",
    "basishermz = basisHermite(ngausshermz,nshells+3,normhermz,xiz)\n",
    "\n",
    "# Filling in 1st derivative basis.\n",
    "dbasishermx = dbasisHermite(hbaromegax,hbar2m,basishermx,ngausshermx,nshells,xix)\n",
    "dbasishermy = dbasisHermite(hbaromegay,hbar2m,basishermy,ngausshermy,nshells,xiy)\n",
    "dbasishermz = dbasisHermite(hbaromegaz,hbar2m,basishermz,ngausshermz,nshells,xiz)"
   ]
  },
  {
   "cell_type": "code",
   "execution_count": 465,
   "metadata": {},
   "outputs": [
    {
     "name": "stdout",
     "output_type": "stream",
     "text": [
      "CPU times: user 11.7 ms, sys: 6.43 ms, total: 18.2 ms\n",
      "Wall time: 17.5 ms\n"
     ]
    },
    {
     "data": {
      "image/png": "[encoded data removed]",
      "text/plain": [
       "<Figure size 640x480 with 1 Axes>"
      ]
     },
     "metadata": {},
     "output_type": "display_data"
    }
   ],
   "source": [
    "%%time\n",
    "#######################################\n",
    "# IGNORE or REMOVE, CONSISTENCY TESTS #\n",
    "#######################################\n",
    "# Plotting coordinates (shifted slightly).\n",
    "plt.plot(x,'.r')\n",
    "plt.plot(y+1,'.b')\n",
    "plt.plot(z+2,'.g')\n",
    "\n",
    "# Testing normalization of Hermite basis functions.\n",
    "for i in range(nshells+3):\n",
    "    test = np.sum(basishermx[:,i]*basishermx[:,i]*xiwx)\n",
    "    if np.abs(test-1.0) > 1e-6:\n",
    "        print(i,np.sum(basishermx[:,i]*basishermx[:,i]*xiwx))\n",
    "    test = np.sum(basishermy[:,i]*basishermy[:,i]*xiwy)\n",
    "    if np.abs(test-1.0) > 1e-6:\n",
    "        print(i,np.sum(basishermy[:,i]*basishermy[:,i]*xiwy))\n",
    "    test = np.sum(basishermz[:,i]*basishermz[:,i]*xiwz)\n",
    "    if np.abs(test-1.0) > 1e-6:\n",
    "        print(i,np.sum(basishermz[:,i]*basishermz[:,i]*xiwz))"
   ]
  },
  {
   "cell_type": "markdown",
   "metadata": {},
   "source": [
    "# Step 3) Defining the 3D HO eigenfunctions."
   ]
  },
  {
   "cell_type": "code",
   "execution_count": 466,
   "metadata": {},
   "outputs": [
    {
     "name": "stdout",
     "output_type": "stream",
     "text": [
      "CPU times: user 31.4 ms, sys: 21.1 ms, total: 52.5 ms\n",
      "Wall time: 50.1 ms\n"
     ]
    }
   ],
   "source": [
    "%%time\n",
    "# Computes basis in 3D.\n",
    "basisfull = basis3D(qnums,nstates,ngausshermx, ngausshermy, ngausshermz,basishermx,basishermy,basishermz)\n",
    "dxbasisfull = basis3D(qnums,nstates,ngausshermx, ngausshermy, ngausshermz,dbasishermx,basishermy,basishermz)\n",
    "dybasisfull = basis3D(qnums,nstates,ngausshermx, ngausshermy, ngausshermz,basishermx,dbasishermy,basishermz)\n",
    "dzbasisfull = basis3D(qnums,nstates,ngausshermx, ngausshermy, ngausshermz,basishermx,basishermy,dbasishermz)"
   ]
  },
  {
   "cell_type": "code",
   "execution_count": 467,
   "metadata": {},
   "outputs": [
    {
     "name": "stdout",
     "output_type": "stream",
     "text": [
      "CPU times: user 20.5 ms, sys: 4.71 ms, total: 25.2 ms\n",
      "Wall time: 22.4 ms\n"
     ]
    }
   ],
   "source": [
    "%%time\n",
    "#######################################\n",
    "# IGNORE or REMOVE, CONSISTENCY TESTS #\n",
    "#######################################\n",
    "# Testing normalization of the full basis functions\n",
    "for i in range(nstates):\n",
    "    integrand1 = np.sum(basisfull[i,  :, :, :]**2 * xiwz, axis=-1)  # Summing over the last axis\n",
    "    integrand2 = np.sum(integrand1 * xiwy, axis=-1)  # Summing over the `iy` axis\n",
    "    integrand3 = np.sum(integrand2 * xiwz, axis=-1)  # Summing over the `ix` axis\n",
    "    sums = np.sum(integrand3)  # Summing over spins\n",
    "    if np.abs(sums - 1.0) > 1e-6:\n",
    "        print(i, sums)"
   ]
  },
  {
   "cell_type": "markdown",
   "metadata": {},
   "source": [
    "# Step 4) Defining the initial densities. "
   ]
  },
  {
   "cell_type": "code",
   "execution_count": 468,
   "metadata": {},
   "outputs": [],
   "source": [
    "# Initializing the densities. \n",
    "dens = densities(ngausshermx,ngausshermy,ngausshermz)"
   ]
  },
  {
   "cell_type": "code",
   "execution_count": 493,
   "metadata": {},
   "outputs": [
    {
     "name": "stdout",
     "output_type": "stream",
     "text": [
      "Z (start) N (start):\n",
      "8.000000000012607 11.999999999937721\n",
      "CPU times: user 8.06 ms, sys: 2.66 ms, total: 10.7 ms\n",
      "Wall time: 8.29 ms\n"
     ]
    }
   ],
   "source": [
    "%%time\n",
    "# Constructing starting densities (currently spherical).\n",
    "dens.rho[0,:,:,:] = initDens(A,Z,1000,ngausshermx,ngausshermy,ngausshermz,x,y,z,betayg,betazg)\n",
    "dens.rho[1,:,:,:] = initDens(A,N,1000,ngausshermx,ngausshermy,ngausshermz,x,y,z,betayg,betazg)\n",
    "dens.kappa=0.08*dens.rho+0.0*1j # NEEDS SOMETHING\n",
    "print(\"Z (start) N (start):\")\n",
    "print(integrate3D(ngausshermx,ngausshermy,ngausshermz,x,y,z,dens.rho[0,:,:,:]),\\\n",
    "                  integrate3D(ngausshermx,ngausshermy,ngausshermz,x,y,z,dens.rho[1,:,:,:]))"
   ]
  },
  {
   "cell_type": "code",
   "execution_count": 494,
   "metadata": {},
   "outputs": [
    {
     "name": "stdout",
     "output_type": "stream",
     "text": [
      "CPU times: user 24.4 ms, sys: 3.53 ms, total: 28 ms\n",
      "Wall time: 25.2 ms\n"
     ]
    },
    {
     "data": {
      "text/plain": [
       "<matplotlib.colorbar.Colorbar at 0x325cb2f40>"
      ]
     },
     "execution_count": 494,
     "metadata": {},
     "output_type": "execute_result"
    },
    {
     "data": {
      "image/png": "[encoded data removed]",
      "text/plain": [
       "<Figure size 640x480 with 2 Axes>"
      ]
     },
     "metadata": {},
     "output_type": "display_data"
    }
   ],
   "source": [
    "%%time\n",
    "#######################################\n",
    "# IGNORE or REMOVE, CONSISTENCY TESTS #\n",
    "#######################################\n",
    "# Density profile.\n",
    "plt.imshow(dens.rho[0,:,int(ngausshermy/2),:],extent=[x[0], x[-1], z[0], z[-1]],\\\n",
    "           origin='lower', aspect='auto', cmap='viridis',interpolation='spline16')\n",
    "plt.colorbar()"
   ]
  },
  {
   "cell_type": "markdown",
   "metadata": {},
   "source": [
    "# Step 5) Constructing the initial potentials."
   ]
  },
  {
   "cell_type": "code",
   "execution_count": 437,
   "metadata": {},
   "outputs": [
    {
     "name": "stdout",
     "output_type": "stream",
     "text": [
      "CPU times: user 22 µs, sys: 1e+03 ns, total: 23 µs\n",
      "Wall time: 25.7 µs\n"
     ]
    }
   ],
   "source": [
    "%%time\n",
    "# Setting the coupling constants.\n",
    "ccedfp = ccedf(7,1) # Protons.\n",
    "ccedfn = ccedf(7,-1) # Neutrons."
   ]
  },
  {
   "cell_type": "code",
   "execution_count": 438,
   "metadata": {},
   "outputs": [
    {
     "name": "stdout",
     "output_type": "stream",
     "text": [
      "CPU times: user 400 ms, sys: 2.96 ms, total: 403 ms\n",
      "Wall time: 401 ms\n"
     ]
    }
   ],
   "source": [
    "%%time\n",
    "# Initializing the potentials. \n",
    "pots = potentials(ngausshermx,ngausshermy,ngausshermz)\n",
    "\n",
    "# Initial chemical potentials.\n",
    "mup = -12.5\n",
    "mun = -12.5\n",
    "\n",
    "# Constructs potentials. \n",
    "# Central potential.\n",
    "constPots(pots,dens,hbar2m,ccedfp,ccedfn,iharmonic,ngausshermx,ngausshermy,ngausshermz)\n",
    "# Pairing contribution.\n",
    "geffp, geffn = renormPaircoupling(pots,mup,mun,ccedfp,ccedfn,ngausshermx,ngausshermy,ngausshermz)\n",
    "constDelta(pots,dens,geffp,geffn,iconstpair)\n",
    "# Coulomb potentials.\n",
    "laplrho = compLaplrho(dens.rho[0,:,:,:],x,y,z)\n",
    "vcdir = compVcouldirect(e2,laplrho,ngausshermx,ngausshermy,ngausshermz,x,y,z) # A bit slow.  \n",
    "vcex = compVcoulexchange(e2,dens.rho[0,:,:,:])\n",
    "pots.ure[0,:,:,:] = pots.ure[0,:,:,:] + vcex + vcdir\n",
    "# Spin orbit potentials. \n",
    "drhox,drhoy,drhoz = compGradrho(dens.rho,ngausshermx,ngausshermy,ngausshermz,x,y,z)\n",
    "compWso(pots,ccedfp,drhox,drhoy,drhoz,1)\n",
    "compWso(pots,ccedfp,drhox,drhoy,drhoz,-1)\n",
    "if isotest == 1:\n",
    "    Xp, Yp, Zp = np.meshgrid(x, y, z, indexing=\"ij\")\n",
    "    acoeff = 5.0\n",
    "    for iso in range(2):\n",
    "        pots.wx[iso,:,:,:] = acoeff*Xp\n",
    "        pots.wy[iso,:,:,:] = acoeff*Yp\n",
    "        pots.wz[iso,:,:,:] = acoeff*Zp"
   ]
  },
  {
   "cell_type": "code",
   "execution_count": 439,
   "metadata": {},
   "outputs": [
    {
     "data": {
      "image/png": "[encoded data removed]",
      "text/plain": [
       "<Figure size 640x480 with 2 Axes>"
      ]
     },
     "metadata": {},
     "output_type": "display_data"
    },
    {
     "data": {
      "image/png": "[encoded data removed]",
      "text/plain": [
       "<Figure size 640x480 with 2 Axes>"
      ]
     },
     "metadata": {},
     "output_type": "display_data"
    },
    {
     "name": "stdout",
     "output_type": "stream",
     "text": [
      "CPU times: user 300 ms, sys: 9.63 ms, total: 310 ms\n",
      "Wall time: 124 ms\n"
     ]
    }
   ],
   "source": [
    "%%time\n",
    "#######################################\n",
    "# IGNORE or REMOVE, CONSISTENCY TESTS #\n",
    "#######################################\n",
    "# Central potential.\n",
    "plt.imshow(pots.ure[0,:,int(ngausshermy/2),:],extent=[x[0], x[-1], z[0], z[-1]], origin='lower', aspect='auto', cmap='viridis')\n",
    "plt.colorbar()\n",
    "plt.show()\n",
    "\n",
    "# Magnitude of pairing field.\n",
    "plt.imshow(np.abs(pots.delta[0,:,int(ngausshermy/2),:]),extent=[x[0], x[-1], z[0], z[-1]], origin='lower', aspect='auto', cmap='viridis')\n",
    "plt.colorbar()\n",
    "plt.show()"
   ]
  },
  {
   "cell_type": "markdown",
   "metadata": {},
   "source": [
    "# Main Loop.\n",
    "# Step 6) Constructing the Hamiltonian."
   ]
  },
  {
   "cell_type": "code",
   "execution_count": 440,
   "metadata": {},
   "outputs": [
    {
     "name": "stdout",
     "output_type": "stream",
     "text": [
      "CPU times: user 9.05 s, sys: 46.7 ms, total: 9.09 s\n",
      "Wall time: 9.12 s\n"
     ]
    }
   ],
   "source": [
    "%%time\n",
    "# Construct Hamiltonian.\n",
    "hamp = compHam(nstates,0,pots,mup,xiwx,xiwy,xiwz,basisfull,dxbasisfull,dybasisfull,dzbasisfull,qnums)\n",
    "hamn = compHam(nstates,1,pots,mun,xiwx,xiwy,xiwz,basisfull,dxbasisfull,dybasisfull,dzbasisfull,qnums)"
   ]
  },
  {
   "cell_type": "code",
   "execution_count": 458,
   "metadata": {},
   "outputs": [
    {
     "name": "stdout",
     "output_type": "stream",
     "text": [
      "0.0\n",
      "0.0\n",
      "CPU times: user 37.4 ms, sys: 23.6 ms, total: 61 ms\n",
      "Wall time: 59.6 ms\n"
     ]
    }
   ],
   "source": [
    "%%time\n",
    "#######################################\n",
    "# IGNORE or REMOVE, CONSISTENCY TESTS #\n",
    "#######################################\n",
    "# Check if matrix is Hermitian. (Forced to be due to construction).  \n",
    "print(np.sum(np.abs(hamp-np.conj(np.transpose(hamp)))))\n",
    "print(np.sum(np.abs(hamn-np.conj(np.transpose(hamn)))))"
   ]
  },
  {
   "cell_type": "markdown",
   "metadata": {},
   "source": [
    "# Step 7) Diagonalizing the Hamiltonian to obtain the eigenvectors and values."
   ]
  },
  {
   "cell_type": "code",
   "execution_count": 459,
   "metadata": {},
   "outputs": [
    {
     "name": "stdout",
     "output_type": "stream",
     "text": [
      "CPU times: user 9.54 s, sys: 373 ms, total: 9.91 s\n",
      "Wall time: 1.06 s\n"
     ]
    }
   ],
   "source": [
    "%%time\n",
    "# Diagonalize Hamiltonian. \n",
    "qpesp,eigvp = np.linalg.eigh(hamp)\n",
    "qpesn,eigvn = np.linalg.eigh(hamn)\n",
    "# Obtain single particle energies.\n",
    "spesp, tmp = np.linalg.eigh(hamp[0:nstates,0:nstates])\n",
    "spesn, tmp = np.linalg.eigh(hamn[0:nstates,0:nstates])"
   ]
  },
  {
   "cell_type": "code",
   "execution_count": 460,
   "metadata": {},
   "outputs": [
    {
     "name": "stdout",
     "output_type": "stream",
     "text": [
      "N =  3.9999999999999973 Z =  3.9999999999999933\n",
      "mun =  -12.5 mup =  -12.5\n",
      "CPU times: user 10.6 ms, sys: 3.1 ms, total: 13.7 ms\n",
      "Wall time: 11.5 ms\n"
     ]
    }
   ],
   "source": [
    "%%time\n",
    "# Recording quasi-particle energies, single particle energies, and occupation numbers.\n",
    "# Occupation numbers.\n",
    "occsp = np.zeros(nstates)\n",
    "occsn = np.zeros(nstates)\n",
    "for i in range(nstates):\n",
    "    occsp[i] = np.sum(np.abs(eigvp[nstates:2*nstates,i+nstates]**2.0))\n",
    "    occsn[i] = np.sum(np.abs(eigvn[nstates:2*nstates,i+nstates]**2.0))\n",
    "print(\"N = \", np.sum(occsn), \"Z = \", np.sum(occsp))\n",
    "print(\"mun = \", mun, \"mup = \", mup)\n",
    "# Saving qpes, spes, and occs.\n",
    "np.savetxt('qpen.txt', np.c_[spesn,qpesn[nstates:2*nstates],occsn])\n",
    "np.savetxt('qpep.txt', np.c_[spesp,qpesp[nstates:2*nstates],occsp])"
   ]
  },
  {
   "cell_type": "code",
   "execution_count": 425,
   "metadata": {},
   "outputs": [
    {
     "data": {
      "image/png": "[encoded data removed]",
      "text/plain": [
       "<Figure size 640x480 with 1 Axes>"
      ]
     },
     "metadata": {},
     "output_type": "display_data"
    },
    {
     "name": "stderr",
     "output_type": "stream",
     "text": [
      "<timed exec>:9: RuntimeWarning: divide by zero encountered in log10\n",
      "<timed exec>:10: RuntimeWarning: divide by zero encountered in log10\n"
     ]
    },
    {
     "data": {
      "image/png": "[encoded data removed]",
      "text/plain": [
       "<Figure size 640x480 with 1 Axes>"
      ]
     },
     "metadata": {},
     "output_type": "display_data"
    },
    {
     "name": "stderr",
     "output_type": "stream",
     "text": [
      "<timed exec>:13: RuntimeWarning: divide by zero encountered in log10\n",
      "<timed exec>:14: RuntimeWarning: divide by zero encountered in log10\n"
     ]
    },
    {
     "data": {
      "image/png": "[encoded data removed]",
      "text/plain": [
       "<Figure size 640x480 with 1 Axes>"
      ]
     },
     "metadata": {},
     "output_type": "display_data"
    },
    {
     "name": "stdout",
     "output_type": "stream",
     "text": [
      "CPU times: user 318 ms, sys: 10.3 ms, total: 329 ms\n",
      "Wall time: 119 ms\n"
     ]
    }
   ],
   "source": [
    "%%time\n",
    "#######################################\n",
    "# IGNORE or REMOVE, CONSISTENCY TESTS #\n",
    "#######################################\n",
    "# Examining spectrum.  \n",
    "plt.plot(qpesp[nstates:2*nstates],occsp,'or')\n",
    "plt.plot(qpesn[nstates:2*nstates],occsn,'.b')\n",
    "plt.show()\n",
    "# Examining spectrum in log scale.  \n",
    "plt.plot(qpesp[nstates:2*nstates],np.log10(occsp),'or')\n",
    "plt.plot(qpesn[nstates:2*nstates],np.log10(occsn),'.b')\n",
    "plt.show()\n",
    "# Examining spectrum in log scale vs index and sorted.\n",
    "plt.plot(np.flip(np.sort(np.log10(occsp))),'or')\n",
    "plt.plot(np.flip(np.sort(np.log10(occsn))),'.b')\n",
    "plt.show()"
   ]
  },
  {
   "cell_type": "markdown",
   "metadata": {},
   "source": [
    "# Step 8) Obtaining the densities (with cutoff on number of quasi-particle wavefunctions)."
   ]
  },
  {
   "cell_type": "code",
   "execution_count": 166,
   "metadata": {},
   "outputs": [
    {
     "data": {
      "text/plain": [
       "1456"
      ]
     },
     "execution_count": 166,
     "metadata": {},
     "output_type": "execute_result"
    }
   ],
   "source": [
    "len(hamp)"
   ]
  },
  {
   "cell_type": "code",
   "execution_count": 165,
   "metadata": {},
   "outputs": [
    {
     "data": {
      "text/plain": [
       "1456"
      ]
     },
     "execution_count": 165,
     "metadata": {},
     "output_type": "execute_result"
    }
   ],
   "source": [
    "len(eigvn[0,:])"
   ]
  },
  {
   "cell_type": "code",
   "execution_count": null,
   "metadata": {},
   "outputs": [],
   "source": [
    "wavfn = eigvn[0,:]"
   ]
  },
  {
   "cell_type": "code",
   "execution_count": 164,
   "metadata": {},
   "outputs": [
    {
     "data": {
      "text/plain": [
       "(0.3278410099060661-0.04359533114813508j)"
      ]
     },
     "execution_count": 164,
     "metadata": {},
     "output_type": "execute_result"
    }
   ],
   "source": [
    "np.sum(eigvn[0,:]*eigvn[0,:])"
   ]
  },
  {
   "cell_type": "code",
   "execution_count": 155,
   "metadata": {},
   "outputs": [],
   "source": [
    "dens.rho[0,:,:,:];"
   ]
  },
  {
   "cell_type": "markdown",
   "metadata": {},
   "source": [
    "# Step 9) Extracting observables and checking convergence (if success skip to Step 12 - our of loop)."
   ]
  },
  {
   "cell_type": "markdown",
   "metadata": {},
   "source": [
    "# Step 10) Creating new potentials."
   ]
  },
  {
   "cell_type": "markdown",
   "metadata": {},
   "source": [
    "# Step 11) Updating chemical potential and mixing potentials. "
   ]
  },
  {
   "cell_type": "code",
   "execution_count": 147,
   "metadata": {},
   "outputs": [],
   "source": [
    "# Return back to Step 6."
   ]
  },
  {
   "cell_type": "markdown",
   "metadata": {},
   "source": [
    "# Step 12) Writing restart densities, potentials, or wavefunctions if desired.  "
   ]
  },
  {
   "cell_type": "code",
   "execution_count": null,
   "metadata": {},
   "outputs": [],
   "source": []
  }
 ],
 "metadata": {
  "kernelspec": {
   "display_name": "Python 3 (ipykernel)",
   "language": "python",
   "name": "python3"
  },
  "language_info": {
   "codemirror_mode": {
    "name": "ipython",
    "version": 3
   },
   "file_extension": ".py",
   "mimetype": "text/x-python",
   "name": "python",
   "nbconvert_exporter": "python",
   "pygments_lexer": "ipython3",
   "version": "3.9.6"
  }
 },
 "nbformat": 4,
 "nbformat_minor": 4
}
